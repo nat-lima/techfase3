{
  "cells": [
    {
      "cell_type": "code",
      "execution_count": 45,
      "metadata": {},
      "outputs": [],
      "source": [
        "# Tratamento de warning\n",
        "import warnings\n",
        "warnings.filterwarnings('ignore')"
      ]
    },
    {
      "cell_type": "markdown",
      "metadata": {
        "id": "JlCIc2YooBW7"
      },
      "source": [
        "#### Análise dos dados sobre acidentes em rodovias em território nacional, disponibilizados pela Polícia Rodoviária Federal (PRF), com objetivo de:\n",
        "\n",
        ">- auxiliar o cidadão na tomada de decisão de usar uma estrada (br) em determinado mês do ano, fase do dia (manha, tarde, noite), feriado ou não e uf. Dessa forma, saber quais estradas e periodo do ano precisam de especial atenção para evitar acidentes fatais.\n",
        "\n",
        ">- entender quais as principais causas de acidentes. \n",
        "\n",
        ">- nortear a decisão das autoridadess de onde investir em melhorias, recapeamento, postos policiais etc., com base na classificação, se estrada perigosa ou não (status).\n",
        "\n",
        "Base de dados disponibilizada em https://www.gov.br/prf/pt-br/acesso-a-informacao/dados-abertos/dados-abertos-acidentes."
      ]
    },
    {
      "cell_type": "markdown",
      "metadata": {
        "id": "xGFJyOm1Kdtd"
      },
      "source": [
        "### Análise Exploratória do Dado"
      ]
    },
    {
      "cell_type": "markdown",
      "metadata": {
        "id": "x5JCU-H56c4S"
      },
      "source": [
        "Além do pacote pandas, para lidar com data frames, o pacote holidays foi importado. Este pacote traz a informação das datas de feriados nacionais."
      ]
    },
    {
      "cell_type": "code",
      "execution_count": 46,
      "metadata": {},
      "outputs": [],
      "source": [
        "import firebase_admin\n",
        "from firebase_admin import credentials\n",
        "from firebase_admin import firestore\n",
        "import pandas as pd\n",
        "import numpy as np\n",
        "import holidays\n",
        "pd.set_option('display.max_columns', None)\n",
        "import seaborn as sns\n",
        "from matplotlib import pyplot as plt\n",
        "from datetime import date\n",
        "import plotly.express as px"
      ]
    },
    {
      "cell_type": "code",
      "execution_count": 47,
      "metadata": {},
      "outputs": [],
      "source": [
        "cred = credentials.Certificate(\"./key/techfase3-firebase-adminsdk-fbsvc-e71cc04b8f.json\")\n",
        "firebase_admin.initialize_app(cred)\n",
        "db = firestore.client()"
      ]
    },
    {
      "cell_type": "code",
      "execution_count": 48,
      "metadata": {},
      "outputs": [],
      "source": [
        "data_ref = db.collection(\"datatran\")\n",
        "results = data_ref .get()"
      ]
    },
    {
      "cell_type": "code",
      "execution_count": 49,
      "metadata": {},
      "outputs": [],
      "source": [
        "data = [doc.to_dict() for doc in results]  \n",
        "df = pd.DataFrame(data)"
      ]
    },
    {
      "cell_type": "markdown",
      "metadata": {},
      "source": [
        "### Como banco de dados é gratuito, não é possível garantir que os dados estejam sempre disponíveis, entãoa criamos uma cópia local"
      ]
    },
    {
      "cell_type": "code",
      "execution_count": null,
      "metadata": {},
      "outputs": [],
      "source": [
        "# import glob\n",
        "\n",
        "# # Encontrar todos os arquivos CSV na pasta \"dados\"\n",
        "# arquivos = glob.glob('./dados/*.csv')\n",
        "\n",
        "# df = pd.concat([pd.read_csv(arquivo, encoding='latin1', delimiter=';') for arquivo in arquivos], ignore_index=True)"
      ]
    },
    {
      "cell_type": "code",
      "execution_count": 50,
      "metadata": {},
      "outputs": [
        {
          "data": {
            "text/html": [
              "<div>\n",
              "<style scoped>\n",
              "    .dataframe tbody tr th:only-of-type {\n",
              "        vertical-align: middle;\n",
              "    }\n",
              "\n",
              "    .dataframe tbody tr th {\n",
              "        vertical-align: top;\n",
              "    }\n",
              "\n",
              "    .dataframe thead th {\n",
              "        text-align: right;\n",
              "    }\n",
              "</style>\n",
              "<table border=\"1\" class=\"dataframe\">\n",
              "  <thead>\n",
              "    <tr style=\"text-align: right;\">\n",
              "      <th></th>\n",
              "      <th>uso_solo</th>\n",
              "      <th>longitude</th>\n",
              "      <th>tracado_via</th>\n",
              "      <th>veiculos</th>\n",
              "      <th>causa_acidente</th>\n",
              "      <th>km</th>\n",
              "      <th>feridos_leves</th>\n",
              "      <th>regional</th>\n",
              "      <th>uf</th>\n",
              "      <th>feridos_graves</th>\n",
              "      <th>classificacao_acidente</th>\n",
              "      <th>ilesos</th>\n",
              "      <th>uop</th>\n",
              "      <th>condicao_metereologica</th>\n",
              "      <th>dia_semana</th>\n",
              "      <th>horario</th>\n",
              "      <th>data_inversa</th>\n",
              "      <th>municipio</th>\n",
              "      <th>id</th>\n",
              "      <th>fase_dia</th>\n",
              "      <th>tipo_acidente</th>\n",
              "      <th>ano</th>\n",
              "      <th>feridos</th>\n",
              "      <th>tipo_pista</th>\n",
              "      <th>mortos</th>\n",
              "      <th>delegacia</th>\n",
              "      <th>pessoas</th>\n",
              "      <th>sentido_via</th>\n",
              "      <th>ignorados</th>\n",
              "      <th>br</th>\n",
              "      <th>latitude</th>\n",
              "    </tr>\n",
              "  </thead>\n",
              "  <tbody>\n",
              "    <tr>\n",
              "      <th>0</th>\n",
              "      <td>Não</td>\n",
              "      <td>-48.71546613</td>\n",
              "      <td>Curva</td>\n",
              "      <td>2</td>\n",
              "      <td>Manobra de mudança de faixa</td>\n",
              "      <td>70</td>\n",
              "      <td>0</td>\n",
              "      <td>SPRF-PA</td>\n",
              "      <td>PA</td>\n",
              "      <td>0</td>\n",
              "      <td>Com Vítimas Fatais</td>\n",
              "      <td>1</td>\n",
              "      <td>UOP01-DEL03-PA</td>\n",
              "      <td>Nublado</td>\n",
              "      <td>domingo</td>\n",
              "      <td>03:00:00</td>\n",
              "      <td>2024-01-21</td>\n",
              "      <td>SAO DOMINGOS DO ARAGUAIA</td>\n",
              "      <td>576139</td>\n",
              "      <td>Plena Noite</td>\n",
              "      <td>Colisão frontal</td>\n",
              "      <td>2024.0</td>\n",
              "      <td>0</td>\n",
              "      <td>Simples</td>\n",
              "      <td>1</td>\n",
              "      <td>DEL03-PA</td>\n",
              "      <td>2</td>\n",
              "      <td>Decrescente</td>\n",
              "      <td>0</td>\n",
              "      <td>230</td>\n",
              "      <td>-5.5079345</td>\n",
              "    </tr>\n",
              "    <tr>\n",
              "      <th>1</th>\n",
              "      <td>Sim</td>\n",
              "      <td>-44.35676617</td>\n",
              "      <td>Reta;Declive</td>\n",
              "      <td>5</td>\n",
              "      <td>Acessar a via sem observar a presença dos outr...</td>\n",
              "      <td>207</td>\n",
              "      <td>0</td>\n",
              "      <td>SPRF-MA</td>\n",
              "      <td>MA</td>\n",
              "      <td>0</td>\n",
              "      <td>Com Vítimas Fatais</td>\n",
              "      <td>1</td>\n",
              "      <td>UOP02-DEL01-MA</td>\n",
              "      <td>Céu Claro</td>\n",
              "      <td>sábado</td>\n",
              "      <td>10:44:00</td>\n",
              "      <td>2024-06-01</td>\n",
              "      <td>ITAPECURU MIRIM</td>\n",
              "      <td>604442</td>\n",
              "      <td>Pleno dia</td>\n",
              "      <td>Colisão lateral mesmo sentido</td>\n",
              "      <td>2024.0</td>\n",
              "      <td>0</td>\n",
              "      <td>Simples</td>\n",
              "      <td>1</td>\n",
              "      <td>DEL01-MA</td>\n",
              "      <td>4</td>\n",
              "      <td>Crescente</td>\n",
              "      <td>4</td>\n",
              "      <td>222</td>\n",
              "      <td>-3.39827306</td>\n",
              "    </tr>\n",
              "    <tr>\n",
              "      <th>2</th>\n",
              "      <td>Sim</td>\n",
              "      <td>-49.11773068</td>\n",
              "      <td>Reta</td>\n",
              "      <td>1</td>\n",
              "      <td>Reação tardia ou ineficiente do condutor</td>\n",
              "      <td>761</td>\n",
              "      <td>1</td>\n",
              "      <td>SPRF-TO</td>\n",
              "      <td>TO</td>\n",
              "      <td>0</td>\n",
              "      <td>Com Vítimas Feridas</td>\n",
              "      <td>0</td>\n",
              "      <td>UOP02-DEL01-TO</td>\n",
              "      <td>Céu Claro</td>\n",
              "      <td>quinta-feira</td>\n",
              "      <td>11:10:00</td>\n",
              "      <td>2024-07-04</td>\n",
              "      <td>ALVORADA</td>\n",
              "      <td>611965</td>\n",
              "      <td>Pleno dia</td>\n",
              "      <td>Tombamento</td>\n",
              "      <td>2024.0</td>\n",
              "      <td>1</td>\n",
              "      <td>Dupla</td>\n",
              "      <td>0</td>\n",
              "      <td>DEL01-TO</td>\n",
              "      <td>1</td>\n",
              "      <td>Decrescente</td>\n",
              "      <td>0</td>\n",
              "      <td>153</td>\n",
              "      <td>-12.48124904</td>\n",
              "    </tr>\n",
              "    <tr>\n",
              "      <th>3</th>\n",
              "      <td>Não</td>\n",
              "      <td>-34.9229207</td>\n",
              "      <td>Reta</td>\n",
              "      <td>3</td>\n",
              "      <td>Reação tardia ou ineficiente do condutor</td>\n",
              "      <td>25</td>\n",
              "      <td>2</td>\n",
              "      <td>SPRF-PE</td>\n",
              "      <td>PE</td>\n",
              "      <td>0</td>\n",
              "      <td>Com Vítimas Feridas</td>\n",
              "      <td>3</td>\n",
              "      <td>UOP02-DEL01-PE</td>\n",
              "      <td>Céu Claro</td>\n",
              "      <td>segunda-feira</td>\n",
              "      <td>07:34:00</td>\n",
              "      <td>2024-02-19</td>\n",
              "      <td>IGARASSU</td>\n",
              "      <td>581987</td>\n",
              "      <td>Pleno dia</td>\n",
              "      <td>Engavetamento</td>\n",
              "      <td>2024.0</td>\n",
              "      <td>2</td>\n",
              "      <td>Dupla</td>\n",
              "      <td>0</td>\n",
              "      <td>DEL01-PE</td>\n",
              "      <td>5</td>\n",
              "      <td>Crescente</td>\n",
              "      <td>0</td>\n",
              "      <td>101</td>\n",
              "      <td>-7.7009082</td>\n",
              "    </tr>\n",
              "    <tr>\n",
              "      <th>4</th>\n",
              "      <td>Não</td>\n",
              "      <td>-49,08493</td>\n",
              "      <td>Reta</td>\n",
              "      <td>1</td>\n",
              "      <td>Reação tardia ou ineficiente do condutor</td>\n",
              "      <td>135</td>\n",
              "      <td>0</td>\n",
              "      <td>SPRF-GO</td>\n",
              "      <td>GO</td>\n",
              "      <td>0</td>\n",
              "      <td>Sem Vítimas</td>\n",
              "      <td>1</td>\n",
              "      <td>UOP01-DEL07-GO</td>\n",
              "      <td>Céu Claro</td>\n",
              "      <td>segunda-feira</td>\n",
              "      <td>20:35:00</td>\n",
              "      <td>2025-02-10</td>\n",
              "      <td>MARA ROSA</td>\n",
              "      <td>660608</td>\n",
              "      <td>Plena Noite</td>\n",
              "      <td>Saída de leito carroçável</td>\n",
              "      <td>2025.0</td>\n",
              "      <td>0</td>\n",
              "      <td>Simples</td>\n",
              "      <td>0</td>\n",
              "      <td>DEL07-GO</td>\n",
              "      <td>1</td>\n",
              "      <td>Crescente</td>\n",
              "      <td>0</td>\n",
              "      <td>153</td>\n",
              "      <td>-13,949925</td>\n",
              "    </tr>\n",
              "  </tbody>\n",
              "</table>\n",
              "</div>"
            ],
            "text/plain": [
              "  uso_solo     longitude   tracado_via veiculos  \\\n",
              "0      Não  -48.71546613         Curva        2   \n",
              "1      Sim  -44.35676617  Reta;Declive        5   \n",
              "2      Sim  -49.11773068          Reta        1   \n",
              "3      Não   -34.9229207          Reta        3   \n",
              "4      Não     -49,08493          Reta        1   \n",
              "\n",
              "                                      causa_acidente   km feridos_leves  \\\n",
              "0                        Manobra de mudança de faixa   70             0   \n",
              "1  Acessar a via sem observar a presença dos outr...  207             0   \n",
              "2           Reação tardia ou ineficiente do condutor  761             1   \n",
              "3           Reação tardia ou ineficiente do condutor   25             2   \n",
              "4           Reação tardia ou ineficiente do condutor  135             0   \n",
              "\n",
              "  regional  uf feridos_graves classificacao_acidente ilesos             uop  \\\n",
              "0  SPRF-PA  PA              0     Com Vítimas Fatais      1  UOP01-DEL03-PA   \n",
              "1  SPRF-MA  MA              0     Com Vítimas Fatais      1  UOP02-DEL01-MA   \n",
              "2  SPRF-TO  TO              0    Com Vítimas Feridas      0  UOP02-DEL01-TO   \n",
              "3  SPRF-PE  PE              0    Com Vítimas Feridas      3  UOP02-DEL01-PE   \n",
              "4  SPRF-GO  GO              0            Sem Vítimas      1  UOP01-DEL07-GO   \n",
              "\n",
              "  condicao_metereologica     dia_semana   horario data_inversa  \\\n",
              "0                Nublado        domingo  03:00:00   2024-01-21   \n",
              "1              Céu Claro         sábado  10:44:00   2024-06-01   \n",
              "2              Céu Claro   quinta-feira  11:10:00   2024-07-04   \n",
              "3              Céu Claro  segunda-feira  07:34:00   2024-02-19   \n",
              "4              Céu Claro  segunda-feira  20:35:00   2025-02-10   \n",
              "\n",
              "                  municipio      id     fase_dia  \\\n",
              "0  SAO DOMINGOS DO ARAGUAIA  576139  Plena Noite   \n",
              "1           ITAPECURU MIRIM  604442    Pleno dia   \n",
              "2                  ALVORADA  611965    Pleno dia   \n",
              "3                  IGARASSU  581987    Pleno dia   \n",
              "4                 MARA ROSA  660608  Plena Noite   \n",
              "\n",
              "                   tipo_acidente     ano feridos tipo_pista mortos delegacia  \\\n",
              "0                Colisão frontal  2024.0       0    Simples      1  DEL03-PA   \n",
              "1  Colisão lateral mesmo sentido  2024.0       0    Simples      1  DEL01-MA   \n",
              "2                     Tombamento  2024.0       1      Dupla      0  DEL01-TO   \n",
              "3                  Engavetamento  2024.0       2      Dupla      0  DEL01-PE   \n",
              "4      Saída de leito carroçável  2025.0       0    Simples      0  DEL07-GO   \n",
              "\n",
              "  pessoas  sentido_via ignorados   br      latitude  \n",
              "0       2  Decrescente         0  230    -5.5079345  \n",
              "1       4    Crescente         4  222   -3.39827306  \n",
              "2       1  Decrescente         0  153  -12.48124904  \n",
              "3       5    Crescente         0  101    -7.7009082  \n",
              "4       1    Crescente         0  153    -13,949925  "
            ]
          },
          "execution_count": 50,
          "metadata": {},
          "output_type": "execute_result"
        }
      ],
      "source": [
        "df.head()"
      ]
    },
    {
      "cell_type": "code",
      "execution_count": 51,
      "metadata": {},
      "outputs": [],
      "source": [
        "df['data_inversa'] = df['data_inversa'].str.strip()\n",
        "df['data_inversa'] = pd.to_datetime(df['data_inversa'], format='%Y-%m-%d', errors='coerce')\n",
        "df['ano'] = pd.to_datetime(df['data_inversa'], errors='coerce').dt.year\n",
        "df['mes'] = pd.to_datetime(df['data_inversa'], errors='coerce').dt.month"
      ]
    },
    {
      "cell_type": "code",
      "execution_count": 52,
      "metadata": {},
      "outputs": [],
      "source": [
        "#df['ano'] = pd.to_numeric(df['ano'], errors='coerce').astype('Int64')\n",
        "df['mortos'] = pd.to_numeric(df['mortos'], errors='coerce').astype('Int64')\n",
        "df['feridos_graves'] = pd.to_numeric(df['feridos_graves'], errors='coerce').astype('Int64')\n",
        "df['veiculos'] = pd.to_numeric(df['veiculos'], errors='coerce').astype('Int64')"
      ]
    },
    {
      "cell_type": "code",
      "execution_count": 53,
      "metadata": {},
      "outputs": [
        {
          "data": {
            "text/html": [
              "<div>\n",
              "<style scoped>\n",
              "    .dataframe tbody tr th:only-of-type {\n",
              "        vertical-align: middle;\n",
              "    }\n",
              "\n",
              "    .dataframe tbody tr th {\n",
              "        vertical-align: top;\n",
              "    }\n",
              "\n",
              "    .dataframe thead th {\n",
              "        text-align: right;\n",
              "    }\n",
              "</style>\n",
              "<table border=\"1\" class=\"dataframe\">\n",
              "  <thead>\n",
              "    <tr style=\"text-align: right;\">\n",
              "      <th></th>\n",
              "      <th>uso_solo</th>\n",
              "      <th>longitude</th>\n",
              "      <th>tracado_via</th>\n",
              "      <th>veiculos</th>\n",
              "      <th>causa_acidente</th>\n",
              "      <th>km</th>\n",
              "      <th>feridos_leves</th>\n",
              "      <th>regional</th>\n",
              "      <th>uf</th>\n",
              "      <th>feridos_graves</th>\n",
              "      <th>classificacao_acidente</th>\n",
              "      <th>ilesos</th>\n",
              "      <th>uop</th>\n",
              "      <th>condicao_metereologica</th>\n",
              "      <th>dia_semana</th>\n",
              "      <th>horario</th>\n",
              "      <th>data_inversa</th>\n",
              "      <th>municipio</th>\n",
              "      <th>id</th>\n",
              "      <th>fase_dia</th>\n",
              "      <th>tipo_acidente</th>\n",
              "      <th>ano</th>\n",
              "      <th>feridos</th>\n",
              "      <th>tipo_pista</th>\n",
              "      <th>mortos</th>\n",
              "      <th>delegacia</th>\n",
              "      <th>pessoas</th>\n",
              "      <th>sentido_via</th>\n",
              "      <th>ignorados</th>\n",
              "      <th>br</th>\n",
              "      <th>latitude</th>\n",
              "      <th>mes</th>\n",
              "    </tr>\n",
              "  </thead>\n",
              "  <tbody>\n",
              "    <tr>\n",
              "      <th>0</th>\n",
              "      <td>Não</td>\n",
              "      <td>-48.71546613</td>\n",
              "      <td>Curva</td>\n",
              "      <td>2</td>\n",
              "      <td>Manobra de mudança de faixa</td>\n",
              "      <td>70</td>\n",
              "      <td>0</td>\n",
              "      <td>SPRF-PA</td>\n",
              "      <td>PA</td>\n",
              "      <td>0</td>\n",
              "      <td>Com Vítimas Fatais</td>\n",
              "      <td>1</td>\n",
              "      <td>UOP01-DEL03-PA</td>\n",
              "      <td>Nublado</td>\n",
              "      <td>domingo</td>\n",
              "      <td>03:00:00</td>\n",
              "      <td>2024-01-21</td>\n",
              "      <td>SAO DOMINGOS DO ARAGUAIA</td>\n",
              "      <td>576139</td>\n",
              "      <td>Plena Noite</td>\n",
              "      <td>Colisão frontal</td>\n",
              "      <td>2024.0</td>\n",
              "      <td>0</td>\n",
              "      <td>Simples</td>\n",
              "      <td>1</td>\n",
              "      <td>DEL03-PA</td>\n",
              "      <td>2</td>\n",
              "      <td>Decrescente</td>\n",
              "      <td>0</td>\n",
              "      <td>230</td>\n",
              "      <td>-5.5079345</td>\n",
              "      <td>1.0</td>\n",
              "    </tr>\n",
              "    <tr>\n",
              "      <th>1</th>\n",
              "      <td>Sim</td>\n",
              "      <td>-44.35676617</td>\n",
              "      <td>Reta;Declive</td>\n",
              "      <td>5</td>\n",
              "      <td>Acessar a via sem observar a presença dos outr...</td>\n",
              "      <td>207</td>\n",
              "      <td>0</td>\n",
              "      <td>SPRF-MA</td>\n",
              "      <td>MA</td>\n",
              "      <td>0</td>\n",
              "      <td>Com Vítimas Fatais</td>\n",
              "      <td>1</td>\n",
              "      <td>UOP02-DEL01-MA</td>\n",
              "      <td>Céu Claro</td>\n",
              "      <td>sábado</td>\n",
              "      <td>10:44:00</td>\n",
              "      <td>2024-06-01</td>\n",
              "      <td>ITAPECURU MIRIM</td>\n",
              "      <td>604442</td>\n",
              "      <td>Pleno dia</td>\n",
              "      <td>Colisão lateral mesmo sentido</td>\n",
              "      <td>2024.0</td>\n",
              "      <td>0</td>\n",
              "      <td>Simples</td>\n",
              "      <td>1</td>\n",
              "      <td>DEL01-MA</td>\n",
              "      <td>4</td>\n",
              "      <td>Crescente</td>\n",
              "      <td>4</td>\n",
              "      <td>222</td>\n",
              "      <td>-3.39827306</td>\n",
              "      <td>6.0</td>\n",
              "    </tr>\n",
              "    <tr>\n",
              "      <th>2</th>\n",
              "      <td>Sim</td>\n",
              "      <td>-49.11773068</td>\n",
              "      <td>Reta</td>\n",
              "      <td>1</td>\n",
              "      <td>Reação tardia ou ineficiente do condutor</td>\n",
              "      <td>761</td>\n",
              "      <td>1</td>\n",
              "      <td>SPRF-TO</td>\n",
              "      <td>TO</td>\n",
              "      <td>0</td>\n",
              "      <td>Com Vítimas Feridas</td>\n",
              "      <td>0</td>\n",
              "      <td>UOP02-DEL01-TO</td>\n",
              "      <td>Céu Claro</td>\n",
              "      <td>quinta-feira</td>\n",
              "      <td>11:10:00</td>\n",
              "      <td>2024-07-04</td>\n",
              "      <td>ALVORADA</td>\n",
              "      <td>611965</td>\n",
              "      <td>Pleno dia</td>\n",
              "      <td>Tombamento</td>\n",
              "      <td>2024.0</td>\n",
              "      <td>1</td>\n",
              "      <td>Dupla</td>\n",
              "      <td>0</td>\n",
              "      <td>DEL01-TO</td>\n",
              "      <td>1</td>\n",
              "      <td>Decrescente</td>\n",
              "      <td>0</td>\n",
              "      <td>153</td>\n",
              "      <td>-12.48124904</td>\n",
              "      <td>7.0</td>\n",
              "    </tr>\n",
              "  </tbody>\n",
              "</table>\n",
              "</div>"
            ],
            "text/plain": [
              "  uso_solo     longitude   tracado_via  veiculos  \\\n",
              "0      Não  -48.71546613         Curva         2   \n",
              "1      Sim  -44.35676617  Reta;Declive         5   \n",
              "2      Sim  -49.11773068          Reta         1   \n",
              "\n",
              "                                      causa_acidente   km feridos_leves  \\\n",
              "0                        Manobra de mudança de faixa   70             0   \n",
              "1  Acessar a via sem observar a presença dos outr...  207             0   \n",
              "2           Reação tardia ou ineficiente do condutor  761             1   \n",
              "\n",
              "  regional  uf  feridos_graves classificacao_acidente ilesos             uop  \\\n",
              "0  SPRF-PA  PA               0     Com Vítimas Fatais      1  UOP01-DEL03-PA   \n",
              "1  SPRF-MA  MA               0     Com Vítimas Fatais      1  UOP02-DEL01-MA   \n",
              "2  SPRF-TO  TO               0    Com Vítimas Feridas      0  UOP02-DEL01-TO   \n",
              "\n",
              "  condicao_metereologica    dia_semana   horario data_inversa  \\\n",
              "0                Nublado       domingo  03:00:00   2024-01-21   \n",
              "1              Céu Claro        sábado  10:44:00   2024-06-01   \n",
              "2              Céu Claro  quinta-feira  11:10:00   2024-07-04   \n",
              "\n",
              "                  municipio      id     fase_dia  \\\n",
              "0  SAO DOMINGOS DO ARAGUAIA  576139  Plena Noite   \n",
              "1           ITAPECURU MIRIM  604442    Pleno dia   \n",
              "2                  ALVORADA  611965    Pleno dia   \n",
              "\n",
              "                   tipo_acidente     ano feridos tipo_pista  mortos delegacia  \\\n",
              "0                Colisão frontal  2024.0       0    Simples       1  DEL03-PA   \n",
              "1  Colisão lateral mesmo sentido  2024.0       0    Simples       1  DEL01-MA   \n",
              "2                     Tombamento  2024.0       1      Dupla       0  DEL01-TO   \n",
              "\n",
              "  pessoas  sentido_via ignorados   br      latitude  mes  \n",
              "0       2  Decrescente         0  230    -5.5079345  1.0  \n",
              "1       4    Crescente         4  222   -3.39827306  6.0  \n",
              "2       1  Decrescente         0  153  -12.48124904  7.0  "
            ]
          },
          "execution_count": 53,
          "metadata": {},
          "output_type": "execute_result"
        }
      ],
      "source": [
        "df.head(3)"
      ]
    },
    {
      "cell_type": "code",
      "execution_count": 55,
      "metadata": {},
      "outputs": [
        {
          "data": {
            "text/plain": [
              "(19998, 32)"
            ]
          },
          "execution_count": 55,
          "metadata": {},
          "output_type": "execute_result"
        }
      ],
      "source": [
        "df.shape"
      ]
    },
    {
      "cell_type": "code",
      "execution_count": 56,
      "metadata": {
        "colab": {
          "base_uri": "https://localhost:8080/"
        },
        "id": "7U0jmhuuYoEb",
        "outputId": "74be087c-9843-4409-a5bb-cdcba30429fc"
      },
      "outputs": [
        {
          "name": "stdout",
          "output_type": "stream",
          "text": [
            "<class 'pandas.core.frame.DataFrame'>\n",
            "RangeIndex: 19998 entries, 0 to 19997\n",
            "Data columns (total 32 columns):\n",
            " #   Column                  Non-Null Count  Dtype         \n",
            "---  ------                  --------------  -----         \n",
            " 0   uso_solo                19998 non-null  object        \n",
            " 1   longitude               19998 non-null  object        \n",
            " 2   tracado_via             19998 non-null  object        \n",
            " 3   veiculos                19996 non-null  Int64         \n",
            " 4   causa_acidente          19998 non-null  object        \n",
            " 5   km                      19998 non-null  object        \n",
            " 6   feridos_leves           19998 non-null  object        \n",
            " 7   regional                19998 non-null  object        \n",
            " 8   uf                      19998 non-null  object        \n",
            " 9   feridos_graves          19996 non-null  Int64         \n",
            " 10  classificacao_acidente  19998 non-null  object        \n",
            " 11  ilesos                  19998 non-null  object        \n",
            " 12  uop                     19998 non-null  object        \n",
            " 13  condicao_metereologica  19998 non-null  object        \n",
            " 14  dia_semana              19998 non-null  object        \n",
            " 15  horario                 19998 non-null  object        \n",
            " 16  data_inversa            19995 non-null  datetime64[ns]\n",
            " 17  municipio               19998 non-null  object        \n",
            " 18  id                      19998 non-null  object        \n",
            " 19  fase_dia                19998 non-null  object        \n",
            " 20  tipo_acidente           19998 non-null  object        \n",
            " 21  ano                     19995 non-null  float64       \n",
            " 22  feridos                 19998 non-null  object        \n",
            " 23  tipo_pista              19998 non-null  object        \n",
            " 24  mortos                  19996 non-null  Int64         \n",
            " 25  delegacia               19998 non-null  object        \n",
            " 26  pessoas                 19998 non-null  object        \n",
            " 27  sentido_via             19998 non-null  object        \n",
            " 28  ignorados               19998 non-null  object        \n",
            " 29  br                      19998 non-null  object        \n",
            " 30  latitude                19998 non-null  object        \n",
            " 31  mes                     19995 non-null  float64       \n",
            "dtypes: Int64(3), datetime64[ns](1), float64(2), object(26)\n",
            "memory usage: 4.9+ MB\n"
          ]
        }
      ],
      "source": [
        "df.info()"
      ]
    },
    {
      "cell_type": "markdown",
      "metadata": {},
      "source": [
        "### Fazendo primeira inspeção para seleção de atributos com base no problema a ser resolvido"
      ]
    },
    {
      "cell_type": "code",
      "execution_count": 57,
      "metadata": {},
      "outputs": [
        {
          "data": {
            "text/html": [
              "<div>\n",
              "<style scoped>\n",
              "    .dataframe tbody tr th:only-of-type {\n",
              "        vertical-align: middle;\n",
              "    }\n",
              "\n",
              "    .dataframe tbody tr th {\n",
              "        vertical-align: top;\n",
              "    }\n",
              "\n",
              "    .dataframe thead th {\n",
              "        text-align: right;\n",
              "    }\n",
              "</style>\n",
              "<table border=\"1\" class=\"dataframe\">\n",
              "  <thead>\n",
              "    <tr style=\"text-align: right;\">\n",
              "      <th></th>\n",
              "      <th>uso_solo</th>\n",
              "      <th>longitude</th>\n",
              "      <th>tracado_via</th>\n",
              "      <th>veiculos</th>\n",
              "      <th>causa_acidente</th>\n",
              "      <th>km</th>\n",
              "      <th>feridos_leves</th>\n",
              "      <th>regional</th>\n",
              "      <th>uf</th>\n",
              "      <th>feridos_graves</th>\n",
              "      <th>classificacao_acidente</th>\n",
              "      <th>ilesos</th>\n",
              "      <th>uop</th>\n",
              "      <th>condicao_metereologica</th>\n",
              "      <th>dia_semana</th>\n",
              "      <th>horario</th>\n",
              "      <th>data_inversa</th>\n",
              "      <th>municipio</th>\n",
              "      <th>id</th>\n",
              "      <th>fase_dia</th>\n",
              "      <th>tipo_acidente</th>\n",
              "      <th>ano</th>\n",
              "      <th>feridos</th>\n",
              "      <th>tipo_pista</th>\n",
              "      <th>mortos</th>\n",
              "      <th>delegacia</th>\n",
              "      <th>pessoas</th>\n",
              "      <th>sentido_via</th>\n",
              "      <th>ignorados</th>\n",
              "      <th>br</th>\n",
              "      <th>latitude</th>\n",
              "      <th>mes</th>\n",
              "    </tr>\n",
              "  </thead>\n",
              "  <tbody>\n",
              "    <tr>\n",
              "      <th>count</th>\n",
              "      <td>19998</td>\n",
              "      <td>19998</td>\n",
              "      <td>19998</td>\n",
              "      <td>19996.000000</td>\n",
              "      <td>19998</td>\n",
              "      <td>19998</td>\n",
              "      <td>19998</td>\n",
              "      <td>19998</td>\n",
              "      <td>19998</td>\n",
              "      <td>19996.000000</td>\n",
              "      <td>19998</td>\n",
              "      <td>19998</td>\n",
              "      <td>19998</td>\n",
              "      <td>19998</td>\n",
              "      <td>19998</td>\n",
              "      <td>19998</td>\n",
              "      <td>19995</td>\n",
              "      <td>19998</td>\n",
              "      <td>19998</td>\n",
              "      <td>19998</td>\n",
              "      <td>19998</td>\n",
              "      <td>19995.000000</td>\n",
              "      <td>19998</td>\n",
              "      <td>19998</td>\n",
              "      <td>19996.000000</td>\n",
              "      <td>19998</td>\n",
              "      <td>19998</td>\n",
              "      <td>19998</td>\n",
              "      <td>19998</td>\n",
              "      <td>19998</td>\n",
              "      <td>19998</td>\n",
              "      <td>19995.000000</td>\n",
              "    </tr>\n",
              "    <tr>\n",
              "      <th>unique</th>\n",
              "      <td>4</td>\n",
              "      <td>17259</td>\n",
              "      <td>339</td>\n",
              "      <td>NaN</td>\n",
              "      <td>69</td>\n",
              "      <td>5342</td>\n",
              "      <td>27</td>\n",
              "      <td>30</td>\n",
              "      <td>29</td>\n",
              "      <td>NaN</td>\n",
              "      <td>6</td>\n",
              "      <td>38</td>\n",
              "      <td>398</td>\n",
              "      <td>11</td>\n",
              "      <td>9</td>\n",
              "      <td>1152</td>\n",
              "      <td>389</td>\n",
              "      <td>1604</td>\n",
              "      <td>19997</td>\n",
              "      <td>6</td>\n",
              "      <td>18</td>\n",
              "      <td>NaN</td>\n",
              "      <td>31</td>\n",
              "      <td>5</td>\n",
              "      <td>NaN</td>\n",
              "      <td>156</td>\n",
              "      <td>49</td>\n",
              "      <td>5</td>\n",
              "      <td>17</td>\n",
              "      <td>107</td>\n",
              "      <td>17261</td>\n",
              "      <td>NaN</td>\n",
              "    </tr>\n",
              "    <tr>\n",
              "      <th>top</th>\n",
              "      <td>Não</td>\n",
              "      <td>-44.33422398</td>\n",
              "      <td>Reta</td>\n",
              "      <td>NaN</td>\n",
              "      <td>Reação tardia ou ineficiente do condutor</td>\n",
              "      <td>119</td>\n",
              "      <td>0</td>\n",
              "      <td>SPRF-MG</td>\n",
              "      <td>MG</td>\n",
              "      <td>NaN</td>\n",
              "      <td>Com Vítimas Feridas</td>\n",
              "      <td>1</td>\n",
              "      <td>UOP03-DEL01-MG</td>\n",
              "      <td>Céu Claro</td>\n",
              "      <td>sexta-feira</td>\n",
              "      <td>17:00:00</td>\n",
              "      <td>2025-01-01 00:00:00</td>\n",
              "      <td>BETIM</td>\n",
              "      <td>id</td>\n",
              "      <td>Pleno dia</td>\n",
              "      <td>Colisão traseira</td>\n",
              "      <td>NaN</td>\n",
              "      <td>1</td>\n",
              "      <td>Simples</td>\n",
              "      <td>NaN</td>\n",
              "      <td>DEL01-PR</td>\n",
              "      <td>2</td>\n",
              "      <td>Crescente</td>\n",
              "      <td>1</td>\n",
              "      <td>116</td>\n",
              "      <td>-20.16710798</td>\n",
              "      <td>NaN</td>\n",
              "    </tr>\n",
              "    <tr>\n",
              "      <th>freq</th>\n",
              "      <td>14176</td>\n",
              "      <td>12</td>\n",
              "      <td>10131</td>\n",
              "      <td>NaN</td>\n",
              "      <td>3101</td>\n",
              "      <td>59</td>\n",
              "      <td>8894</td>\n",
              "      <td>3048</td>\n",
              "      <td>3070</td>\n",
              "      <td>NaN</td>\n",
              "      <td>13771</td>\n",
              "      <td>9227</td>\n",
              "      <td>230</td>\n",
              "      <td>12694</td>\n",
              "      <td>3201</td>\n",
              "      <td>255</td>\n",
              "      <td>183</td>\n",
              "      <td>152</td>\n",
              "      <td>2</td>\n",
              "      <td>11805</td>\n",
              "      <td>4351</td>\n",
              "      <td>NaN</td>\n",
              "      <td>10740</td>\n",
              "      <td>11289</td>\n",
              "      <td>NaN</td>\n",
              "      <td>735</td>\n",
              "      <td>7106</td>\n",
              "      <td>10717</td>\n",
              "      <td>7860</td>\n",
              "      <td>3181</td>\n",
              "      <td>12</td>\n",
              "      <td>NaN</td>\n",
              "    </tr>\n",
              "    <tr>\n",
              "      <th>first</th>\n",
              "      <td>NaN</td>\n",
              "      <td>NaN</td>\n",
              "      <td>NaN</td>\n",
              "      <td>NaN</td>\n",
              "      <td>NaN</td>\n",
              "      <td>NaN</td>\n",
              "      <td>NaN</td>\n",
              "      <td>NaN</td>\n",
              "      <td>NaN</td>\n",
              "      <td>NaN</td>\n",
              "      <td>NaN</td>\n",
              "      <td>NaN</td>\n",
              "      <td>NaN</td>\n",
              "      <td>NaN</td>\n",
              "      <td>NaN</td>\n",
              "      <td>NaN</td>\n",
              "      <td>2024-01-01 00:00:00</td>\n",
              "      <td>NaN</td>\n",
              "      <td>NaN</td>\n",
              "      <td>NaN</td>\n",
              "      <td>NaN</td>\n",
              "      <td>NaN</td>\n",
              "      <td>NaN</td>\n",
              "      <td>NaN</td>\n",
              "      <td>NaN</td>\n",
              "      <td>NaN</td>\n",
              "      <td>NaN</td>\n",
              "      <td>NaN</td>\n",
              "      <td>NaN</td>\n",
              "      <td>NaN</td>\n",
              "      <td>NaN</td>\n",
              "      <td>NaN</td>\n",
              "    </tr>\n",
              "    <tr>\n",
              "      <th>last</th>\n",
              "      <td>NaN</td>\n",
              "      <td>NaN</td>\n",
              "      <td>NaN</td>\n",
              "      <td>NaN</td>\n",
              "      <td>NaN</td>\n",
              "      <td>NaN</td>\n",
              "      <td>NaN</td>\n",
              "      <td>NaN</td>\n",
              "      <td>NaN</td>\n",
              "      <td>NaN</td>\n",
              "      <td>NaN</td>\n",
              "      <td>NaN</td>\n",
              "      <td>NaN</td>\n",
              "      <td>NaN</td>\n",
              "      <td>NaN</td>\n",
              "      <td>NaN</td>\n",
              "      <td>2025-04-30 00:00:00</td>\n",
              "      <td>NaN</td>\n",
              "      <td>NaN</td>\n",
              "      <td>NaN</td>\n",
              "      <td>NaN</td>\n",
              "      <td>NaN</td>\n",
              "      <td>NaN</td>\n",
              "      <td>NaN</td>\n",
              "      <td>NaN</td>\n",
              "      <td>NaN</td>\n",
              "      <td>NaN</td>\n",
              "      <td>NaN</td>\n",
              "      <td>NaN</td>\n",
              "      <td>NaN</td>\n",
              "      <td>NaN</td>\n",
              "      <td>NaN</td>\n",
              "    </tr>\n",
              "    <tr>\n",
              "      <th>mean</th>\n",
              "      <td>NaN</td>\n",
              "      <td>NaN</td>\n",
              "      <td>NaN</td>\n",
              "      <td>2.824415</td>\n",
              "      <td>NaN</td>\n",
              "      <td>NaN</td>\n",
              "      <td>NaN</td>\n",
              "      <td>NaN</td>\n",
              "      <td>NaN</td>\n",
              "      <td>0.284207</td>\n",
              "      <td>NaN</td>\n",
              "      <td>NaN</td>\n",
              "      <td>NaN</td>\n",
              "      <td>NaN</td>\n",
              "      <td>NaN</td>\n",
              "      <td>NaN</td>\n",
              "      <td>NaN</td>\n",
              "      <td>NaN</td>\n",
              "      <td>NaN</td>\n",
              "      <td>NaN</td>\n",
              "      <td>NaN</td>\n",
              "      <td>2024.333933</td>\n",
              "      <td>NaN</td>\n",
              "      <td>NaN</td>\n",
              "      <td>0.146729</td>\n",
              "      <td>NaN</td>\n",
              "      <td>NaN</td>\n",
              "      <td>NaN</td>\n",
              "      <td>NaN</td>\n",
              "      <td>NaN</td>\n",
              "      <td>NaN</td>\n",
              "      <td>4.122131</td>\n",
              "    </tr>\n",
              "    <tr>\n",
              "      <th>std</th>\n",
              "      <td>NaN</td>\n",
              "      <td>NaN</td>\n",
              "      <td>NaN</td>\n",
              "      <td>1.468933</td>\n",
              "      <td>NaN</td>\n",
              "      <td>NaN</td>\n",
              "      <td>NaN</td>\n",
              "      <td>NaN</td>\n",
              "      <td>NaN</td>\n",
              "      <td>0.627687</td>\n",
              "      <td>NaN</td>\n",
              "      <td>NaN</td>\n",
              "      <td>NaN</td>\n",
              "      <td>NaN</td>\n",
              "      <td>NaN</td>\n",
              "      <td>NaN</td>\n",
              "      <td>NaN</td>\n",
              "      <td>NaN</td>\n",
              "      <td>NaN</td>\n",
              "      <td>NaN</td>\n",
              "      <td>NaN</td>\n",
              "      <td>0.471628</td>\n",
              "      <td>NaN</td>\n",
              "      <td>NaN</td>\n",
              "      <td>0.479825</td>\n",
              "      <td>NaN</td>\n",
              "      <td>NaN</td>\n",
              "      <td>NaN</td>\n",
              "      <td>NaN</td>\n",
              "      <td>NaN</td>\n",
              "      <td>NaN</td>\n",
              "      <td>2.488985</td>\n",
              "    </tr>\n",
              "    <tr>\n",
              "      <th>min</th>\n",
              "      <td>NaN</td>\n",
              "      <td>NaN</td>\n",
              "      <td>NaN</td>\n",
              "      <td>1.000000</td>\n",
              "      <td>NaN</td>\n",
              "      <td>NaN</td>\n",
              "      <td>NaN</td>\n",
              "      <td>NaN</td>\n",
              "      <td>NaN</td>\n",
              "      <td>0.000000</td>\n",
              "      <td>NaN</td>\n",
              "      <td>NaN</td>\n",
              "      <td>NaN</td>\n",
              "      <td>NaN</td>\n",
              "      <td>NaN</td>\n",
              "      <td>NaN</td>\n",
              "      <td>NaN</td>\n",
              "      <td>NaN</td>\n",
              "      <td>NaN</td>\n",
              "      <td>NaN</td>\n",
              "      <td>NaN</td>\n",
              "      <td>2024.000000</td>\n",
              "      <td>NaN</td>\n",
              "      <td>NaN</td>\n",
              "      <td>0.000000</td>\n",
              "      <td>NaN</td>\n",
              "      <td>NaN</td>\n",
              "      <td>NaN</td>\n",
              "      <td>NaN</td>\n",
              "      <td>NaN</td>\n",
              "      <td>NaN</td>\n",
              "      <td>1.000000</td>\n",
              "    </tr>\n",
              "    <tr>\n",
              "      <th>25%</th>\n",
              "      <td>NaN</td>\n",
              "      <td>NaN</td>\n",
              "      <td>NaN</td>\n",
              "      <td>2.000000</td>\n",
              "      <td>NaN</td>\n",
              "      <td>NaN</td>\n",
              "      <td>NaN</td>\n",
              "      <td>NaN</td>\n",
              "      <td>NaN</td>\n",
              "      <td>0.000000</td>\n",
              "      <td>NaN</td>\n",
              "      <td>NaN</td>\n",
              "      <td>NaN</td>\n",
              "      <td>NaN</td>\n",
              "      <td>NaN</td>\n",
              "      <td>NaN</td>\n",
              "      <td>NaN</td>\n",
              "      <td>NaN</td>\n",
              "      <td>NaN</td>\n",
              "      <td>NaN</td>\n",
              "      <td>NaN</td>\n",
              "      <td>2024.000000</td>\n",
              "      <td>NaN</td>\n",
              "      <td>NaN</td>\n",
              "      <td>0.000000</td>\n",
              "      <td>NaN</td>\n",
              "      <td>NaN</td>\n",
              "      <td>NaN</td>\n",
              "      <td>NaN</td>\n",
              "      <td>NaN</td>\n",
              "      <td>NaN</td>\n",
              "      <td>2.000000</td>\n",
              "    </tr>\n",
              "    <tr>\n",
              "      <th>50%</th>\n",
              "      <td>NaN</td>\n",
              "      <td>NaN</td>\n",
              "      <td>NaN</td>\n",
              "      <td>2.000000</td>\n",
              "      <td>NaN</td>\n",
              "      <td>NaN</td>\n",
              "      <td>NaN</td>\n",
              "      <td>NaN</td>\n",
              "      <td>NaN</td>\n",
              "      <td>0.000000</td>\n",
              "      <td>NaN</td>\n",
              "      <td>NaN</td>\n",
              "      <td>NaN</td>\n",
              "      <td>NaN</td>\n",
              "      <td>NaN</td>\n",
              "      <td>NaN</td>\n",
              "      <td>NaN</td>\n",
              "      <td>NaN</td>\n",
              "      <td>NaN</td>\n",
              "      <td>NaN</td>\n",
              "      <td>NaN</td>\n",
              "      <td>2024.000000</td>\n",
              "      <td>NaN</td>\n",
              "      <td>NaN</td>\n",
              "      <td>0.000000</td>\n",
              "      <td>NaN</td>\n",
              "      <td>NaN</td>\n",
              "      <td>NaN</td>\n",
              "      <td>NaN</td>\n",
              "      <td>NaN</td>\n",
              "      <td>NaN</td>\n",
              "      <td>4.000000</td>\n",
              "    </tr>\n",
              "    <tr>\n",
              "      <th>75%</th>\n",
              "      <td>NaN</td>\n",
              "      <td>NaN</td>\n",
              "      <td>NaN</td>\n",
              "      <td>3.000000</td>\n",
              "      <td>NaN</td>\n",
              "      <td>NaN</td>\n",
              "      <td>NaN</td>\n",
              "      <td>NaN</td>\n",
              "      <td>NaN</td>\n",
              "      <td>0.000000</td>\n",
              "      <td>NaN</td>\n",
              "      <td>NaN</td>\n",
              "      <td>NaN</td>\n",
              "      <td>NaN</td>\n",
              "      <td>NaN</td>\n",
              "      <td>NaN</td>\n",
              "      <td>NaN</td>\n",
              "      <td>NaN</td>\n",
              "      <td>NaN</td>\n",
              "      <td>NaN</td>\n",
              "      <td>NaN</td>\n",
              "      <td>2025.000000</td>\n",
              "      <td>NaN</td>\n",
              "      <td>NaN</td>\n",
              "      <td>0.000000</td>\n",
              "      <td>NaN</td>\n",
              "      <td>NaN</td>\n",
              "      <td>NaN</td>\n",
              "      <td>NaN</td>\n",
              "      <td>NaN</td>\n",
              "      <td>NaN</td>\n",
              "      <td>6.000000</td>\n",
              "    </tr>\n",
              "    <tr>\n",
              "      <th>max</th>\n",
              "      <td>NaN</td>\n",
              "      <td>NaN</td>\n",
              "      <td>NaN</td>\n",
              "      <td>31.000000</td>\n",
              "      <td>NaN</td>\n",
              "      <td>NaN</td>\n",
              "      <td>NaN</td>\n",
              "      <td>NaN</td>\n",
              "      <td>NaN</td>\n",
              "      <td>24.000000</td>\n",
              "      <td>NaN</td>\n",
              "      <td>NaN</td>\n",
              "      <td>NaN</td>\n",
              "      <td>NaN</td>\n",
              "      <td>NaN</td>\n",
              "      <td>NaN</td>\n",
              "      <td>NaN</td>\n",
              "      <td>NaN</td>\n",
              "      <td>NaN</td>\n",
              "      <td>NaN</td>\n",
              "      <td>NaN</td>\n",
              "      <td>2025.000000</td>\n",
              "      <td>NaN</td>\n",
              "      <td>NaN</td>\n",
              "      <td>23.000000</td>\n",
              "      <td>NaN</td>\n",
              "      <td>NaN</td>\n",
              "      <td>NaN</td>\n",
              "      <td>NaN</td>\n",
              "      <td>NaN</td>\n",
              "      <td>NaN</td>\n",
              "      <td>9.000000</td>\n",
              "    </tr>\n",
              "  </tbody>\n",
              "</table>\n",
              "</div>"
            ],
            "text/plain": [
              "       uso_solo     longitude tracado_via      veiculos  \\\n",
              "count     19998         19998       19998  19996.000000   \n",
              "unique        4         17259         339           NaN   \n",
              "top         Não  -44.33422398        Reta           NaN   \n",
              "freq      14176            12       10131           NaN   \n",
              "first       NaN           NaN         NaN           NaN   \n",
              "last        NaN           NaN         NaN           NaN   \n",
              "mean        NaN           NaN         NaN      2.824415   \n",
              "std         NaN           NaN         NaN      1.468933   \n",
              "min         NaN           NaN         NaN      1.000000   \n",
              "25%         NaN           NaN         NaN      2.000000   \n",
              "50%         NaN           NaN         NaN      2.000000   \n",
              "75%         NaN           NaN         NaN      3.000000   \n",
              "max         NaN           NaN         NaN     31.000000   \n",
              "\n",
              "                                  causa_acidente     km feridos_leves  \\\n",
              "count                                      19998  19998         19998   \n",
              "unique                                        69   5342            27   \n",
              "top     Reação tardia ou ineficiente do condutor    119             0   \n",
              "freq                                        3101     59          8894   \n",
              "first                                        NaN    NaN           NaN   \n",
              "last                                         NaN    NaN           NaN   \n",
              "mean                                         NaN    NaN           NaN   \n",
              "std                                          NaN    NaN           NaN   \n",
              "min                                          NaN    NaN           NaN   \n",
              "25%                                          NaN    NaN           NaN   \n",
              "50%                                          NaN    NaN           NaN   \n",
              "75%                                          NaN    NaN           NaN   \n",
              "max                                          NaN    NaN           NaN   \n",
              "\n",
              "       regional     uf  feridos_graves classificacao_acidente ilesos  \\\n",
              "count     19998  19998    19996.000000                  19998  19998   \n",
              "unique       30     29             NaN                      6     38   \n",
              "top     SPRF-MG     MG             NaN    Com Vítimas Feridas      1   \n",
              "freq       3048   3070             NaN                  13771   9227   \n",
              "first       NaN    NaN             NaN                    NaN    NaN   \n",
              "last        NaN    NaN             NaN                    NaN    NaN   \n",
              "mean        NaN    NaN        0.284207                    NaN    NaN   \n",
              "std         NaN    NaN        0.627687                    NaN    NaN   \n",
              "min         NaN    NaN        0.000000                    NaN    NaN   \n",
              "25%         NaN    NaN        0.000000                    NaN    NaN   \n",
              "50%         NaN    NaN        0.000000                    NaN    NaN   \n",
              "75%         NaN    NaN        0.000000                    NaN    NaN   \n",
              "max         NaN    NaN       24.000000                    NaN    NaN   \n",
              "\n",
              "                   uop condicao_metereologica   dia_semana   horario  \\\n",
              "count            19998                  19998        19998     19998   \n",
              "unique             398                     11            9      1152   \n",
              "top     UOP03-DEL01-MG              Céu Claro  sexta-feira  17:00:00   \n",
              "freq               230                  12694         3201       255   \n",
              "first              NaN                    NaN          NaN       NaN   \n",
              "last               NaN                    NaN          NaN       NaN   \n",
              "mean               NaN                    NaN          NaN       NaN   \n",
              "std                NaN                    NaN          NaN       NaN   \n",
              "min                NaN                    NaN          NaN       NaN   \n",
              "25%                NaN                    NaN          NaN       NaN   \n",
              "50%                NaN                    NaN          NaN       NaN   \n",
              "75%                NaN                    NaN          NaN       NaN   \n",
              "max                NaN                    NaN          NaN       NaN   \n",
              "\n",
              "               data_inversa municipio     id   fase_dia     tipo_acidente  \\\n",
              "count                 19995     19998  19998      19998             19998   \n",
              "unique                  389      1604  19997          6                18   \n",
              "top     2025-01-01 00:00:00     BETIM     id  Pleno dia  Colisão traseira   \n",
              "freq                    183       152      2      11805              4351   \n",
              "first   2024-01-01 00:00:00       NaN    NaN        NaN               NaN   \n",
              "last    2025-04-30 00:00:00       NaN    NaN        NaN               NaN   \n",
              "mean                    NaN       NaN    NaN        NaN               NaN   \n",
              "std                     NaN       NaN    NaN        NaN               NaN   \n",
              "min                     NaN       NaN    NaN        NaN               NaN   \n",
              "25%                     NaN       NaN    NaN        NaN               NaN   \n",
              "50%                     NaN       NaN    NaN        NaN               NaN   \n",
              "75%                     NaN       NaN    NaN        NaN               NaN   \n",
              "max                     NaN       NaN    NaN        NaN               NaN   \n",
              "\n",
              "                 ano feridos tipo_pista        mortos delegacia pessoas  \\\n",
              "count   19995.000000   19998      19998  19996.000000     19998   19998   \n",
              "unique           NaN      31          5           NaN       156      49   \n",
              "top              NaN       1    Simples           NaN  DEL01-PR       2   \n",
              "freq             NaN   10740      11289           NaN       735    7106   \n",
              "first            NaN     NaN        NaN           NaN       NaN     NaN   \n",
              "last             NaN     NaN        NaN           NaN       NaN     NaN   \n",
              "mean     2024.333933     NaN        NaN      0.146729       NaN     NaN   \n",
              "std         0.471628     NaN        NaN      0.479825       NaN     NaN   \n",
              "min      2024.000000     NaN        NaN      0.000000       NaN     NaN   \n",
              "25%      2024.000000     NaN        NaN      0.000000       NaN     NaN   \n",
              "50%      2024.000000     NaN        NaN      0.000000       NaN     NaN   \n",
              "75%      2025.000000     NaN        NaN      0.000000       NaN     NaN   \n",
              "max      2025.000000     NaN        NaN     23.000000       NaN     NaN   \n",
              "\n",
              "       sentido_via ignorados     br      latitude           mes  \n",
              "count        19998     19998  19998         19998  19995.000000  \n",
              "unique           5        17    107         17261           NaN  \n",
              "top      Crescente         1    116  -20.16710798           NaN  \n",
              "freq         10717      7860   3181            12           NaN  \n",
              "first          NaN       NaN    NaN           NaN           NaN  \n",
              "last           NaN       NaN    NaN           NaN           NaN  \n",
              "mean           NaN       NaN    NaN           NaN      4.122131  \n",
              "std            NaN       NaN    NaN           NaN      2.488985  \n",
              "min            NaN       NaN    NaN           NaN      1.000000  \n",
              "25%            NaN       NaN    NaN           NaN      2.000000  \n",
              "50%            NaN       NaN    NaN           NaN      4.000000  \n",
              "75%            NaN       NaN    NaN           NaN      6.000000  \n",
              "max            NaN       NaN    NaN           NaN      9.000000  "
            ]
          },
          "execution_count": 57,
          "metadata": {},
          "output_type": "execute_result"
        }
      ],
      "source": [
        "df.describe(include='all')"
      ]
    },
    {
      "cell_type": "code",
      "execution_count": 58,
      "metadata": {
        "colab": {
          "base_uri": "https://localhost:8080/",
          "height": 1000
        },
        "id": "4MxmEditZOkd",
        "outputId": "c18cec2b-4a5a-4df9-91c0-e032c0446650"
      },
      "outputs": [
        {
          "data": {
            "text/plain": [
              "uso_solo                  0\n",
              "longitude                 0\n",
              "tracado_via               0\n",
              "veiculos                  2\n",
              "causa_acidente            0\n",
              "km                        0\n",
              "feridos_leves             0\n",
              "regional                  0\n",
              "uf                        0\n",
              "feridos_graves            2\n",
              "classificacao_acidente    0\n",
              "ilesos                    0\n",
              "uop                       0\n",
              "condicao_metereologica    0\n",
              "dia_semana                0\n",
              "horario                   0\n",
              "data_inversa              3\n",
              "municipio                 0\n",
              "id                        0\n",
              "fase_dia                  0\n",
              "tipo_acidente             0\n",
              "ano                       3\n",
              "feridos                   0\n",
              "tipo_pista                0\n",
              "mortos                    2\n",
              "delegacia                 0\n",
              "pessoas                   0\n",
              "sentido_via               0\n",
              "ignorados                 0\n",
              "br                        0\n",
              "latitude                  0\n",
              "mes                       3\n",
              "dtype: int64"
            ]
          },
          "execution_count": 58,
          "metadata": {},
          "output_type": "execute_result"
        }
      ],
      "source": [
        "#Verificação de dados nulos\n",
        "df.isnull().sum()"
      ]
    },
    {
      "cell_type": "code",
      "execution_count": 59,
      "metadata": {},
      "outputs": [],
      "source": [
        "datatran = df[['id', 'ano', 'mes', 'data_inversa', 'uf', 'br', 'km', 'municipio', 'causa_acidente', 'classificacao_acidente', 'veiculos', 'condicao_metereologica', 'fase_dia', 'dia_semana', 'tipo_acidente', 'tipo_pista', 'mortos', 'feridos_graves', 'latitude', 'longitude']]"
      ]
    },
    {
      "cell_type": "code",
      "execution_count": 60,
      "metadata": {},
      "outputs": [
        {
          "data": {
            "text/html": [
              "<div>\n",
              "<style scoped>\n",
              "    .dataframe tbody tr th:only-of-type {\n",
              "        vertical-align: middle;\n",
              "    }\n",
              "\n",
              "    .dataframe tbody tr th {\n",
              "        vertical-align: top;\n",
              "    }\n",
              "\n",
              "    .dataframe thead th {\n",
              "        text-align: right;\n",
              "    }\n",
              "</style>\n",
              "<table border=\"1\" class=\"dataframe\">\n",
              "  <thead>\n",
              "    <tr style=\"text-align: right;\">\n",
              "      <th></th>\n",
              "      <th>id</th>\n",
              "      <th>ano</th>\n",
              "      <th>mes</th>\n",
              "      <th>data_inversa</th>\n",
              "      <th>uf</th>\n",
              "      <th>br</th>\n",
              "      <th>km</th>\n",
              "      <th>municipio</th>\n",
              "      <th>causa_acidente</th>\n",
              "      <th>classificacao_acidente</th>\n",
              "      <th>veiculos</th>\n",
              "      <th>condicao_metereologica</th>\n",
              "      <th>fase_dia</th>\n",
              "      <th>dia_semana</th>\n",
              "      <th>tipo_acidente</th>\n",
              "      <th>tipo_pista</th>\n",
              "      <th>mortos</th>\n",
              "      <th>feridos_graves</th>\n",
              "      <th>latitude</th>\n",
              "      <th>longitude</th>\n",
              "    </tr>\n",
              "  </thead>\n",
              "  <tbody>\n",
              "    <tr>\n",
              "      <th>0</th>\n",
              "      <td>576139</td>\n",
              "      <td>2024.0</td>\n",
              "      <td>1.0</td>\n",
              "      <td>2024-01-21</td>\n",
              "      <td>PA</td>\n",
              "      <td>230</td>\n",
              "      <td>70</td>\n",
              "      <td>SAO DOMINGOS DO ARAGUAIA</td>\n",
              "      <td>Manobra de mudança de faixa</td>\n",
              "      <td>Com Vítimas Fatais</td>\n",
              "      <td>2</td>\n",
              "      <td>Nublado</td>\n",
              "      <td>Plena Noite</td>\n",
              "      <td>domingo</td>\n",
              "      <td>Colisão frontal</td>\n",
              "      <td>Simples</td>\n",
              "      <td>1</td>\n",
              "      <td>0</td>\n",
              "      <td>-5.5079345</td>\n",
              "      <td>-48.71546613</td>\n",
              "    </tr>\n",
              "    <tr>\n",
              "      <th>1</th>\n",
              "      <td>604442</td>\n",
              "      <td>2024.0</td>\n",
              "      <td>6.0</td>\n",
              "      <td>2024-06-01</td>\n",
              "      <td>MA</td>\n",
              "      <td>222</td>\n",
              "      <td>207</td>\n",
              "      <td>ITAPECURU MIRIM</td>\n",
              "      <td>Acessar a via sem observar a presença dos outr...</td>\n",
              "      <td>Com Vítimas Fatais</td>\n",
              "      <td>5</td>\n",
              "      <td>Céu Claro</td>\n",
              "      <td>Pleno dia</td>\n",
              "      <td>sábado</td>\n",
              "      <td>Colisão lateral mesmo sentido</td>\n",
              "      <td>Simples</td>\n",
              "      <td>1</td>\n",
              "      <td>0</td>\n",
              "      <td>-3.39827306</td>\n",
              "      <td>-44.35676617</td>\n",
              "    </tr>\n",
              "    <tr>\n",
              "      <th>2</th>\n",
              "      <td>611965</td>\n",
              "      <td>2024.0</td>\n",
              "      <td>7.0</td>\n",
              "      <td>2024-07-04</td>\n",
              "      <td>TO</td>\n",
              "      <td>153</td>\n",
              "      <td>761</td>\n",
              "      <td>ALVORADA</td>\n",
              "      <td>Reação tardia ou ineficiente do condutor</td>\n",
              "      <td>Com Vítimas Feridas</td>\n",
              "      <td>1</td>\n",
              "      <td>Céu Claro</td>\n",
              "      <td>Pleno dia</td>\n",
              "      <td>quinta-feira</td>\n",
              "      <td>Tombamento</td>\n",
              "      <td>Dupla</td>\n",
              "      <td>0</td>\n",
              "      <td>0</td>\n",
              "      <td>-12.48124904</td>\n",
              "      <td>-49.11773068</td>\n",
              "    </tr>\n",
              "  </tbody>\n",
              "</table>\n",
              "</div>"
            ],
            "text/plain": [
              "       id     ano  mes data_inversa  uf   br   km                 municipio  \\\n",
              "0  576139  2024.0  1.0   2024-01-21  PA  230   70  SAO DOMINGOS DO ARAGUAIA   \n",
              "1  604442  2024.0  6.0   2024-06-01  MA  222  207           ITAPECURU MIRIM   \n",
              "2  611965  2024.0  7.0   2024-07-04  TO  153  761                  ALVORADA   \n",
              "\n",
              "                                      causa_acidente classificacao_acidente  \\\n",
              "0                        Manobra de mudança de faixa     Com Vítimas Fatais   \n",
              "1  Acessar a via sem observar a presença dos outr...     Com Vítimas Fatais   \n",
              "2           Reação tardia ou ineficiente do condutor    Com Vítimas Feridas   \n",
              "\n",
              "   veiculos condicao_metereologica     fase_dia    dia_semana  \\\n",
              "0         2                Nublado  Plena Noite       domingo   \n",
              "1         5              Céu Claro    Pleno dia        sábado   \n",
              "2         1              Céu Claro    Pleno dia  quinta-feira   \n",
              "\n",
              "                   tipo_acidente tipo_pista  mortos  feridos_graves  \\\n",
              "0                Colisão frontal    Simples       1               0   \n",
              "1  Colisão lateral mesmo sentido    Simples       1               0   \n",
              "2                     Tombamento      Dupla       0               0   \n",
              "\n",
              "       latitude     longitude  \n",
              "0    -5.5079345  -48.71546613  \n",
              "1   -3.39827306  -44.35676617  \n",
              "2  -12.48124904  -49.11773068  "
            ]
          },
          "execution_count": 60,
          "metadata": {},
          "output_type": "execute_result"
        }
      ],
      "source": [
        "datatran.head(3)"
      ]
    },
    {
      "cell_type": "markdown",
      "metadata": {
        "id": "3MEbwld68BN0"
      },
      "source": [
        "### Tratando valores ausentes:"
      ]
    },
    {
      "cell_type": "code",
      "execution_count": 64,
      "metadata": {},
      "outputs": [
        {
          "data": {
            "text/html": [
              "<div>\n",
              "<style scoped>\n",
              "    .dataframe tbody tr th:only-of-type {\n",
              "        vertical-align: middle;\n",
              "    }\n",
              "\n",
              "    .dataframe tbody tr th {\n",
              "        vertical-align: top;\n",
              "    }\n",
              "\n",
              "    .dataframe thead th {\n",
              "        text-align: right;\n",
              "    }\n",
              "</style>\n",
              "<table border=\"1\" class=\"dataframe\">\n",
              "  <thead>\n",
              "    <tr style=\"text-align: right;\">\n",
              "      <th></th>\n",
              "      <th>id</th>\n",
              "      <th>ano</th>\n",
              "      <th>mes</th>\n",
              "      <th>data_inversa</th>\n",
              "      <th>uf</th>\n",
              "      <th>br</th>\n",
              "      <th>km</th>\n",
              "      <th>municipio</th>\n",
              "      <th>causa_acidente</th>\n",
              "      <th>classificacao_acidente</th>\n",
              "      <th>veiculos</th>\n",
              "      <th>condicao_metereologica</th>\n",
              "      <th>fase_dia</th>\n",
              "      <th>dia_semana</th>\n",
              "      <th>tipo_acidente</th>\n",
              "      <th>tipo_pista</th>\n",
              "      <th>mortos</th>\n",
              "      <th>feridos_graves</th>\n",
              "      <th>latitude</th>\n",
              "      <th>longitude</th>\n",
              "    </tr>\n",
              "  </thead>\n",
              "  <tbody>\n",
              "    <tr>\n",
              "      <th>4633</th>\n",
              "      <td>652555</td>\n",
              "      <td>2025.0</td>\n",
              "      <td>1.0</td>\n",
              "      <td>2025-01-01</td>\n",
              "      <td>RS</td>\n",
              "      <td>290</td>\n",
              "      <td>27,1</td>\n",
              "      <td>SANTO ANTONIO DA PATRULHA</td>\n",
              "      <td>Demais falhas mecânicas ou elétricas</td>\n",
              "      <td>NA</td>\n",
              "      <td>2</td>\n",
              "      <td>Céu Claro</td>\n",
              "      <td>Pleno dia</td>\n",
              "      <td>quarta-feira</td>\n",
              "      <td>Saída de leito carroçável</td>\n",
              "      <td>Dupla</td>\n",
              "      <td>0</td>\n",
              "      <td>0</td>\n",
              "      <td>-29,880135</td>\n",
              "      <td>-50,514297</td>\n",
              "    </tr>\n",
              "    <tr>\n",
              "      <th>11623</th>\n",
              "      <td>571789</td>\n",
              "      <td>2024.0</td>\n",
              "      <td>1.0</td>\n",
              "      <td>2024-01-01</td>\n",
              "      <td>ES</td>\n",
              "      <td>101</td>\n",
              "      <td>38</td>\n",
              "      <td>CONCEICAO DA BARRA</td>\n",
              "      <td>Ultrapassagem Indevida</td>\n",
              "      <td>NA</td>\n",
              "      <td>3</td>\n",
              "      <td>Céu Claro</td>\n",
              "      <td>Plena Noite</td>\n",
              "      <td>segunda-feira</td>\n",
              "      <td>Colisão lateral sentido oposto</td>\n",
              "      <td>Simples</td>\n",
              "      <td>0</td>\n",
              "      <td>1</td>\n",
              "      <td>-18.48261</td>\n",
              "      <td>-39.92379</td>\n",
              "    </tr>\n",
              "  </tbody>\n",
              "</table>\n",
              "</div>"
            ],
            "text/plain": [
              "           id     ano  mes data_inversa  uf   br    km  \\\n",
              "4633   652555  2025.0  1.0   2025-01-01  RS  290  27,1   \n",
              "11623  571789  2024.0  1.0   2024-01-01  ES  101    38   \n",
              "\n",
              "                       municipio                        causa_acidente  \\\n",
              "4633   SANTO ANTONIO DA PATRULHA  Demais falhas mecânicas ou elétricas   \n",
              "11623         CONCEICAO DA BARRA                Ultrapassagem Indevida   \n",
              "\n",
              "      classificacao_acidente  veiculos condicao_metereologica     fase_dia  \\\n",
              "4633                      NA         2              Céu Claro    Pleno dia   \n",
              "11623                     NA         3              Céu Claro  Plena Noite   \n",
              "\n",
              "          dia_semana                   tipo_acidente tipo_pista  mortos  \\\n",
              "4633    quarta-feira       Saída de leito carroçável      Dupla       0   \n",
              "11623  segunda-feira  Colisão lateral sentido oposto    Simples       0   \n",
              "\n",
              "       feridos_graves    latitude   longitude  \n",
              "4633                0  -29,880135  -50,514297  \n",
              "11623               1   -18.48261   -39.92379  "
            ]
          },
          "execution_count": 64,
          "metadata": {},
          "output_type": "execute_result"
        }
      ],
      "source": [
        "selection = datatran[(datatran['classificacao_acidente'].isnull()) | (datatran['classificacao_acidente']=='NA')]\n",
        "selection"
      ]
    },
    {
      "cell_type": "code",
      "execution_count": 65,
      "metadata": {},
      "outputs": [
        {
          "data": {
            "text/plain": [
              "array(['Com Vítimas Fatais', 'Com Vítimas Feridas', 'Sem Vítimas', 'NA',\n",
              "       'classificacao_acidente', '1'], dtype=object)"
            ]
          },
          "execution_count": 65,
          "metadata": {},
          "output_type": "execute_result"
        }
      ],
      "source": [
        "datatran['classificacao_acidente'].unique()"
      ]
    },
    {
      "cell_type": "code",
      "execution_count": 68,
      "metadata": {},
      "outputs": [],
      "source": [
        "datatran.loc[\n",
        "    ((datatran['classificacao_acidente'].isnull()) | (datatran['classificacao_acidente']=='NA')) & (datatran['mortos'] == 0) & (datatran['feridos_graves'] == 1),\n",
        "    'classificacao_acidente'\n",
        "] = \"Com Vítimas Feridas\"\n",
        "\n",
        "datatran.loc[\n",
        "    ((datatran['classificacao_acidente'].isnull()) | (datatran['classificacao_acidente']=='NA')) & (datatran['mortos'] == 0) & (datatran['feridos_graves'] == 0),\n",
        "    'classificacao_acidente'\n",
        "] = \"Sem Vítimas\""
      ]
    },
    {
      "cell_type": "code",
      "execution_count": 69,
      "metadata": {},
      "outputs": [
        {
          "data": {
            "text/plain": [
              "array(['Com Vítimas Fatais', 'Com Vítimas Feridas', 'Sem Vítimas',\n",
              "       'classificacao_acidente', '1'], dtype=object)"
            ]
          },
          "execution_count": 69,
          "metadata": {},
          "output_type": "execute_result"
        }
      ],
      "source": [
        "datatran['classificacao_acidente'].unique()"
      ]
    },
    {
      "cell_type": "markdown",
      "metadata": {},
      "source": [
        "### Tratando valores ausentes:\n",
        ">- dropna somente nas colunas que são essenciais para o modelo"
      ]
    },
    {
      "cell_type": "code",
      "execution_count": 70,
      "metadata": {
        "colab": {
          "base_uri": "https://localhost:8080/",
          "height": 1000
        },
        "id": "OEsdt2wk8BiM",
        "outputId": "918cdaaa-5463-42d7-e447-965c8654a9c9"
      },
      "outputs": [],
      "source": [
        "#Remoção dos dados nulos\n",
        "datatran.dropna(subset=['br','km', 'data_inversa', 'id' ], inplace=True)"
      ]
    },
    {
      "cell_type": "code",
      "execution_count": 71,
      "metadata": {},
      "outputs": [
        {
          "data": {
            "text/plain": [
              "id                        0\n",
              "ano                       0\n",
              "mes                       0\n",
              "data_inversa              0\n",
              "uf                        0\n",
              "br                        0\n",
              "km                        0\n",
              "municipio                 0\n",
              "causa_acidente            0\n",
              "classificacao_acidente    0\n",
              "veiculos                  0\n",
              "condicao_metereologica    0\n",
              "fase_dia                  0\n",
              "dia_semana                0\n",
              "tipo_acidente             0\n",
              "tipo_pista                0\n",
              "mortos                    0\n",
              "feridos_graves            0\n",
              "latitude                  0\n",
              "longitude                 0\n",
              "dtype: int64"
            ]
          },
          "execution_count": 71,
          "metadata": {},
          "output_type": "execute_result"
        }
      ],
      "source": [
        "datatran.isnull().sum()"
      ]
    },
    {
      "cell_type": "code",
      "execution_count": 72,
      "metadata": {},
      "outputs": [
        {
          "data": {
            "text/plain": [
              "array(['PA', 'MA', 'TO', 'PE', 'GO', 'MS', 'SC', 'DF', 'RJ', 'PR', 'CE',\n",
              "       'SP', 'BA', 'RS', 'MG', 'ES', 'SE', 'RO', 'PB', 'MT', 'PI', 'RN',\n",
              "       'AL', 'AC', 'RR', 'AP', 'AM'], dtype=object)"
            ]
          },
          "execution_count": 72,
          "metadata": {},
          "output_type": "execute_result"
        }
      ],
      "source": [
        "datatran['uf'].unique()"
      ]
    },
    {
      "cell_type": "code",
      "execution_count": 73,
      "metadata": {},
      "outputs": [
        {
          "data": {
            "image/png": "[encoded data removed]",
            "text/plain": [
              "<Figure size 2000x500 with 1 Axes>"
            ]
          },
          "metadata": {},
          "output_type": "display_data"
        },
        {
          "data": {
            "image/png": "[encoded data removed]",
            "text/plain": [
              "<Figure size 2000x500 with 1 Axes>"
            ]
          },
          "metadata": {},
          "output_type": "display_data"
        }
      ],
      "source": [
        "df_top = df.groupby(['ano', 'uf']).size().reset_index(name='QuantidadeAcidentesUF')\n",
        "\n",
        "anos = df_top['ano'].unique()\n",
        "\n",
        "for ano in anos:\n",
        "    df_ano = df_top[df_top['ano'] == ano].sort_values(by='QuantidadeAcidentesUF', ascending=False).head(10)  # Top 10 UFs\n",
        "    \n",
        "    plt.figure(figsize=(20, 5))\n",
        "    plt.bar(df_ano['uf'], df_ano['QuantidadeAcidentesUF'], color='red', edgecolor='black')\n",
        "    plt.title(f'Top 10 Estados com Mais Acidentes - {ano}', fontsize=14)\n",
        "    plt.xlabel('UF', fontsize=10)\n",
        "    plt.ylabel('Quantidade de Acidentes', fontsize=12)\n",
        "    \n",
        "    # Adicionar valores sobre as barras\n",
        "    for i, valor in enumerate(df_ano['QuantidadeAcidentesUF']):\n",
        "        plt.text(i, valor + 0.1, str(valor), ha='center', va='bottom', fontsize=10, color='black')\n",
        "    \n",
        "    plt.xticks(rotation=90)\n",
        "    plt.tight_layout()\n",
        "    plt.show()"
      ]
    },
    {
      "cell_type": "markdown",
      "metadata": {
        "id": "vW22352itqBt"
      },
      "source": [
        "Inspecionando o atributo \"classificação_acidente\":"
      ]
    },
    {
      "cell_type": "code",
      "execution_count": 74,
      "metadata": {
        "colab": {
          "base_uri": "https://localhost:8080/"
        },
        "id": "0IwvrOCwtzpm",
        "outputId": "cebeb78b-65a0-4e9e-bbe0-7589b5ee0278"
      },
      "outputs": [
        {
          "data": {
            "text/plain": [
              "array(['Com Vítimas Fatais', 'Com Vítimas Feridas', 'Sem Vítimas'],\n",
              "      dtype=object)"
            ]
          },
          "execution_count": 74,
          "metadata": {},
          "output_type": "execute_result"
        }
      ],
      "source": [
        "datatran['classificacao_acidente'].unique()"
      ]
    },
    {
      "cell_type": "markdown",
      "metadata": {
        "id": "1yMIYN4at4ws"
      },
      "source": [
        "### Identificando Rodovia perigosa ou não com base nos mortos e\tferidos_graves\t"
      ]
    },
    {
      "cell_type": "code",
      "execution_count": 79,
      "metadata": {},
      "outputs": [],
      "source": [
        "datatran['status'] = np.where(\n",
        "    (datatran['mortos'].fillna(0) > 0) | (datatran['feridos_graves'].fillna(0) > 0),\n",
        "    'Perigosa',\n",
        "    'Segura'\n",
        ")\n"
      ]
    },
    {
      "cell_type": "code",
      "execution_count": 80,
      "metadata": {
        "colab": {
          "base_uri": "https://localhost:8080/"
        },
        "id": "OmbDylMGu9pN",
        "outputId": "4121bd8e-5d79-4753-b47c-5f1309ffa226"
      },
      "outputs": [
        {
          "data": {
            "text/plain": [
              "Segura      13393\n",
              "Perigosa     6602\n",
              "Name: status, dtype: int64"
            ]
          },
          "execution_count": 80,
          "metadata": {},
          "output_type": "execute_result"
        }
      ],
      "source": [
        "datatran['status'].value_counts()"
      ]
    },
    {
      "cell_type": "code",
      "execution_count": 81,
      "metadata": {},
      "outputs": [
        {
          "data": {
            "image/png": "[encoded data removed]",
            "text/plain": [
              "<Figure size 2000x500 with 1 Axes>"
            ]
          },
          "metadata": {},
          "output_type": "display_data"
        },
        {
          "data": {
            "image/png": "[encoded data removed]",
            "text/plain": [
              "<Figure size 2000x500 with 1 Axes>"
            ]
          },
          "metadata": {},
          "output_type": "display_data"
        }
      ],
      "source": [
        "# Contar quantidade de acidentes por status, ano e UF\n",
        "df_top = datatran.groupby(['ano', 'uf', 'status']).size().reset_index(name='StatusAcidentes')\n",
        "\n",
        "# Criar gráficos para cada ano\n",
        "anos = df_top['ano'].unique()\n",
        "\n",
        "for ano in anos:\n",
        "    df_ano = df_top[df_top['ano'] == ano]\n",
        "    \n",
        "    # Reestruturar os dados para garantir que todas as categorias sejam exibidas corretamente\n",
        "    df_pivot = df_ano.pivot(index='uf', columns='status', values='StatusAcidentes').fillna(0)\n",
        "\n",
        "    # Criar gráfico de barras empilhadas\n",
        "    df_pivot.plot(kind='bar', stacked=True, figsize=(20, 5), color={'Perigosa': 'red', 'Segura': 'blue'})\n",
        "    \n",
        "    plt.title(f'Status dos Acidentes por UF - {ano}', fontsize=14)\n",
        "    plt.xlabel('UF', fontsize=10)\n",
        "    plt.ylabel('Quantidade de Acidentes', fontsize=12)\n",
        "    plt.legend(title=\"Status\")\n",
        "    plt.xticks(rotation=90)\n",
        "    plt.tight_layout()\n",
        "    plt.show()"
      ]
    },
    {
      "cell_type": "markdown",
      "metadata": {
        "id": "d6VpCSsww9cS"
      },
      "source": [
        "Inspeção do dado"
      ]
    },
    {
      "cell_type": "code",
      "execution_count": 83,
      "metadata": {},
      "outputs": [
        {
          "data": {
            "text/plain": [
              "2024.0    13318\n",
              "2025.0     6677\n",
              "Name: ano, dtype: int64"
            ]
          },
          "execution_count": 83,
          "metadata": {},
          "output_type": "execute_result"
        }
      ],
      "source": [
        "datatran['ano'].value_counts()"
      ]
    },
    {
      "cell_type": "code",
      "execution_count": 84,
      "metadata": {
        "colab": {
          "base_uri": "https://localhost:8080/"
        },
        "id": "HYQ54m9QxedL",
        "outputId": "bcefa729-1565-4731-bb05-e3f79fc7f93f"
      },
      "outputs": [
        {
          "data": {
            "text/plain": [
              "array(['domingo', 'sábado', 'quinta-feira', 'segunda-feira',\n",
              "       'terça-feira', 'sexta-feira', 'quarta-feira'], dtype=object)"
            ]
          },
          "execution_count": 84,
          "metadata": {},
          "output_type": "execute_result"
        }
      ],
      "source": [
        "datatran['dia_semana'].unique()"
      ]
    },
    {
      "cell_type": "code",
      "execution_count": 85,
      "metadata": {
        "colab": {
          "base_uri": "https://localhost:8080/"
        },
        "id": "eA3RpZ2nx0Qi",
        "outputId": "f48d5252-9e28-4357-b195-d12027892955"
      },
      "outputs": [
        {
          "data": {
            "text/plain": [
              "array(['SAO DOMINGOS DO ARAGUAIA', 'ITAPECURU MIRIM', 'ALVORADA', ...,\n",
              "       'SETE DE SETEMBRO', 'AMAPA', 'UBAJARA'], dtype=object)"
            ]
          },
          "execution_count": 85,
          "metadata": {},
          "output_type": "execute_result"
        }
      ],
      "source": [
        "datatran['municipio'].unique()"
      ]
    },
    {
      "cell_type": "code",
      "execution_count": 86,
      "metadata": {
        "colab": {
          "base_uri": "https://localhost:8080/"
        },
        "id": "YV1vWcuGyG2G",
        "outputId": "ec656a6a-3947-4cdc-ca9a-95d0957fa271"
      },
      "outputs": [
        {
          "data": {
            "text/plain": [
              "array(['Plena Noite', 'Pleno dia', 'Amanhecer', 'Anoitecer'], dtype=object)"
            ]
          },
          "execution_count": 86,
          "metadata": {},
          "output_type": "execute_result"
        }
      ],
      "source": [
        "datatran['fase_dia'].unique()"
      ]
    },
    {
      "cell_type": "code",
      "execution_count": 87,
      "metadata": {},
      "outputs": [
        {
          "data": {
            "text/plain": [
              "array(['230', '222', '153', '101', '158', '20', '116', '459', '354',\n",
              "       '373', '163', '242', '435', '290', '262', '365', '280', '452',\n",
              "       '470', '10', '364', '40', '287', '324', '304', '267', '251', '232',\n",
              "       '386', '277', '472', '135', '110', '316', '356', '376', '381',\n",
              "       '226', '60', '392', '50', '349', '343', '487', '70', '282', '493',\n",
              "       '423', '428', '285', '448', '471', '393', '0', '407', '414', '476',\n",
              "       '235', '174', '210', '104', '369', '319', '80', '415', '410',\n",
              "       '405', '293', '418', '424', '480', '421', '408', '406', '427',\n",
              "       '425', '146', '468', '259', '465', '495', '330', '402', '367',\n",
              "       '155', '463', '156', '420', '308', '317', '401', '436', '361',\n",
              "       '467', '272', '432', '412', '429', '488', '122', '359', '469',\n",
              "       '484', '30', '419'], dtype=object)"
            ]
          },
          "execution_count": 87,
          "metadata": {},
          "output_type": "execute_result"
        }
      ],
      "source": [
        "datatran['br'].unique()"
      ]
    },
    {
      "cell_type": "markdown",
      "metadata": {},
      "source": [
        "### Removendo br = 0"
      ]
    },
    {
      "cell_type": "code",
      "execution_count": 88,
      "metadata": {},
      "outputs": [],
      "source": [
        "datatran = datatran[datatran['br'] != 0]"
      ]
    },
    {
      "cell_type": "code",
      "execution_count": 89,
      "metadata": {},
      "outputs": [
        {
          "data": {
            "text/plain": [
              "array(['230', '222', '153', '101', '158', '20', '116', '459', '354',\n",
              "       '373', '163', '242', '435', '290', '262', '365', '280', '452',\n",
              "       '470', '10', '364', '40', '287', '324', '304', '267', '251', '232',\n",
              "       '386', '277', '472', '135', '110', '316', '356', '376', '381',\n",
              "       '226', '60', '392', '50', '349', '343', '487', '70', '282', '493',\n",
              "       '423', '428', '285', '448', '471', '393', '0', '407', '414', '476',\n",
              "       '235', '174', '210', '104', '369', '319', '80', '415', '410',\n",
              "       '405', '293', '418', '424', '480', '421', '408', '406', '427',\n",
              "       '425', '146', '468', '259', '465', '495', '330', '402', '367',\n",
              "       '155', '463', '156', '420', '308', '317', '401', '436', '361',\n",
              "       '467', '272', '432', '412', '429', '488', '122', '359', '469',\n",
              "       '484', '30', '419'], dtype=object)"
            ]
          },
          "execution_count": 89,
          "metadata": {},
          "output_type": "execute_result"
        }
      ],
      "source": [
        "datatran['br'].unique()"
      ]
    },
    {
      "cell_type": "code",
      "execution_count": 90,
      "metadata": {},
      "outputs": [
        {
          "data": {
            "text/plain": [
              "array(['Manobra de mudança de faixa',\n",
              "       'Acessar a via sem observar a presença dos outros veículos',\n",
              "       'Reação tardia ou ineficiente do condutor',\n",
              "       'Ausência de reação do condutor', 'Frear bruscamente',\n",
              "       'Demais falhas mecânicas ou elétricas', 'Transitar na contramão',\n",
              "       'Condutor Dormindo', 'Velocidade Incompatível',\n",
              "       'Entrada inopinada do pedestre',\n",
              "       'Objeto estático sobre o leito carroçável',\n",
              "       'Acumulo de água sobre o pavimento', 'Pedestre andava na pista',\n",
              "       'Ultrapassagem Indevida',\n",
              "       'Trafegar com motocicleta (ou similar) entre as faixas',\n",
              "       'Condutor deixou de manter distância do veículo da frente',\n",
              "       'Pedestre cruzava a pista fora da faixa',\n",
              "       'Ingestão de álcool pelo condutor', 'Problema com o freio',\n",
              "       'Acesso irregular', 'Retorno proibido', 'Pista Escorregadia',\n",
              "       'Desrespeitar a preferência no cruzamento', 'Pista esburacada',\n",
              "       'Conversão proibida', 'Avarias e/ou desgaste excessivo no pneu',\n",
              "       'Iluminação deficiente', 'Curva acentuada', 'Chuva', 'Neblina',\n",
              "       'Transitar no Acostamento',\n",
              "       'Carga excessiva e/ou mal acondicionada',\n",
              "       'Afundamento ou ondulação no pavimento', 'Problema na suspensão',\n",
              "       'Animais na Pista', 'Desvio temporário', 'Suicídio (presumido)',\n",
              "       'Acostamento em desnível', 'Demais falhas na via',\n",
              "       'Ingestão de substâncias psicoativas pelo condutor',\n",
              "       'Condutor usando celular', 'Acumulo de óleo sobre o pavimento',\n",
              "       'Mal súbito do condutor', 'Estacionar ou parar em local proibido',\n",
              "       'Ausência de sinalização',\n",
              "       'Pedestre - Ingestão de álcool/ substâncias psicoativas',\n",
              "       'Declive acentuado', 'Falta de acostamento',\n",
              "       'Demais Fenômenos da natureza',\n",
              "       'Transtornos Mentais (exceto suicidio)', 'Fumaça',\n",
              "       'Faixas de trânsito com largura insuficiente',\n",
              "       'Acumulo de areia ou detritos sobre o pavimento',\n",
              "       'Deficiência do Sistema de Iluminação/Sinalização',\n",
              "       'Sinalização mal posicionada', 'Sistema de drenagem ineficiente',\n",
              "       'Condutor desrespeitou a iluminação vermelha do semáforo',\n",
              "       'Restrição de visibilidade em curvas horizontais',\n",
              "       'Falta de elemento de contenção que evite a saída do leito carroçável',\n",
              "       'Área urbana sem a presença de local apropriado para a travessia de pedestres',\n",
              "       'Deixar de acionar o farol da motocicleta (ou similar)',\n",
              "       'Restrição de visibilidade em curvas verticais',\n",
              "       'Faróis desregulados', 'Modificação proibida',\n",
              "       'Participar de racha', 'Sinalização encoberta',\n",
              "       'Semáforo com defeito'], dtype=object)"
            ]
          },
          "execution_count": 90,
          "metadata": {},
          "output_type": "execute_result"
        }
      ],
      "source": [
        "datatran['causa_acidente'].unique()"
      ]
    },
    {
      "cell_type": "code",
      "execution_count": 91,
      "metadata": {
        "colab": {
          "base_uri": "https://localhost:8080/"
        },
        "id": "3jHyIqKDzcTZ",
        "outputId": "81e7cc05-4a9d-4725-f539-95431809cf2a"
      },
      "outputs": [
        {
          "data": {
            "text/plain": [
              "array(['Nublado', 'Céu Claro', 'Chuva', 'Garoa/Chuvisco', 'Ignorado',\n",
              "       'Nevoeiro/Neblina', 'Sol', 'Granizo', 'Vento'], dtype=object)"
            ]
          },
          "execution_count": 91,
          "metadata": {},
          "output_type": "execute_result"
        }
      ],
      "source": [
        "datatran['condicao_metereologica'].unique()"
      ]
    },
    {
      "cell_type": "code",
      "execution_count": 92,
      "metadata": {
        "colab": {
          "base_uri": "https://localhost:8080/"
        },
        "id": "nms7mzX70lMb",
        "outputId": "2dcf0aa6-31d9-4555-c90b-60cda0f74466"
      },
      "outputs": [
        {
          "data": {
            "text/plain": [
              "array(['Pleno dia', 'Plena Noite', 'Amanhecer', 'Anoitecer'], dtype=object)"
            ]
          },
          "execution_count": 92,
          "metadata": {},
          "output_type": "execute_result"
        }
      ],
      "source": [
        "aux = datatran.query(\"condicao_metereologica == 'Céu Claro'\")\n",
        "aux['fase_dia'].unique()"
      ]
    },
    {
      "cell_type": "markdown",
      "metadata": {
        "id": "WmE7yZsvzmPZ"
      },
      "source": [
        "### Tratanto \"condicao_metereologica\" = \"Ignorado\"\n",
        ">- assumindo que não foi importante registrar a condição metereológica, atribuiremos \"Céu Claro\" ( no contexto real, certificar com o dono do dado qual o tratamento adequado)"
      ]
    },
    {
      "cell_type": "code",
      "execution_count": 93,
      "metadata": {
        "colab": {
          "base_uri": "https://localhost:8080/"
        },
        "id": "ilpkIZn71nQa",
        "outputId": "7064e0dd-e316-4d3a-8cd1-8d46002ed4e4"
      },
      "outputs": [
        {
          "data": {
            "text/plain": [
              "array(['Nublado', 'Céu Claro', 'Chuva', 'Garoa/Chuvisco',\n",
              "       'Nevoeiro/Neblina', 'Sol', 'Granizo', 'Vento'], dtype=object)"
            ]
          },
          "execution_count": 93,
          "metadata": {},
          "output_type": "execute_result"
        }
      ],
      "source": [
        "datatran['condicao_metereologica'].replace('Ignorado', 'Céu Claro', inplace=True)\n",
        "datatran['condicao_metereologica'].unique()"
      ]
    },
    {
      "cell_type": "code",
      "execution_count": 94,
      "metadata": {
        "colab": {
          "base_uri": "https://localhost:8080/"
        },
        "id": "UwpCEF8N2CgH",
        "outputId": "dfdd1040-2823-467b-9006-a1dfe61e7075"
      },
      "outputs": [
        {
          "data": {
            "text/plain": [
              "array(['Simples', 'Dupla', 'Múltipla'], dtype=object)"
            ]
          },
          "execution_count": 94,
          "metadata": {},
          "output_type": "execute_result"
        }
      ],
      "source": [
        "datatran['tipo_pista'].unique()"
      ]
    },
    {
      "cell_type": "markdown",
      "metadata": {
        "id": "V2WOltDS3Wj-"
      },
      "source": [
        "#### Analisando se data era ou não um feriado nacional pois isso pode ser um fator determinante para aumento de fluxo de veiculos e acidentes.\n"
      ]
    },
    {
      "cell_type": "code",
      "execution_count": 95,
      "metadata": {
        "colab": {
          "base_uri": "https://localhost:8080/"
        },
        "id": "XgPeKwO44Dkj",
        "outputId": "c604111b-8200-4bf8-d730-e24d6ee80a5a"
      },
      "outputs": [
        {
          "data": {
            "text/plain": [
              "array(['n', 'y'], dtype=object)"
            ]
          },
          "execution_count": 95,
          "metadata": {},
          "output_type": "execute_result"
        }
      ],
      "source": [
        "datatran.insert(2, 'feriado', '')\n",
        "feriado = []\n",
        "for i in holidays.Brazil()['2022-01-01':'2025-12-31']:\n",
        "    feriado.append(i)\n",
        "datatran['feriado'] = datatran['data_inversa'].isin(feriado)\n",
        "datatran['feriado'].replace(True, 'y', inplace=True)\n",
        "datatran['feriado'].replace(False, 'n', inplace=True)\n",
        "datatran['feriado'].unique()"
      ]
    },
    {
      "cell_type": "markdown",
      "metadata": {},
      "source": [
        "### AGRUPANDO OS DADOS DAS COLUNAS 'uf' e 'mes' para diminuir a dimensionalidade quando encoding"
      ]
    },
    {
      "cell_type": "code",
      "execution_count": 96,
      "metadata": {},
      "outputs": [],
      "source": [
        "# Dicionário mapeando as UFs para suas respectivas regiões\n",
        "regioes = {\n",
        "    'Norte': ['AC', 'AP', 'AM', 'PA', 'RO', 'RR', 'TO'],\n",
        "    'Nordeste': ['AL', 'BA', 'CE', 'MA', 'PB', 'PE', 'PI', 'RN', 'SE'],\n",
        "    'Centro-Oeste': ['DF', 'GO', 'MT', 'MS'],\n",
        "    'Sudeste': ['ES', 'MG', 'RJ', 'SP'],\n",
        "    'Sul': ['PR', 'RS', 'SC']\n",
        "}\n",
        "\n",
        "# Função para mapear UF à região correspondente\n",
        "def mapear_regiao(uf):\n",
        "    for regiao, estados in regioes.items():\n",
        "        if uf in estados:\n",
        "            return regiao\n",
        "    return 'Desconhecido'  # Caso haja alguma UF inválida\n",
        "\n",
        "# Criando a coluna 'Região' no DataFrame\n",
        "datatran['regiao'] = datatran['uf'].apply(mapear_regiao)"
      ]
    },
    {
      "cell_type": "code",
      "execution_count": 97,
      "metadata": {},
      "outputs": [
        {
          "data": {
            "text/plain": [
              "array(['Norte', 'Nordeste', 'Centro-Oeste', 'Sul', 'Sudeste'],\n",
              "      dtype=object)"
            ]
          },
          "execution_count": 97,
          "metadata": {},
          "output_type": "execute_result"
        }
      ],
      "source": [
        "datatran['regiao'].unique()"
      ]
    },
    {
      "cell_type": "code",
      "execution_count": 98,
      "metadata": {},
      "outputs": [],
      "source": [
        "# Criando um dicionário para mapear meses aos trimestres\n",
        "trimestres = {\n",
        "    1: '1 Trimestre', 2: '1 Trimestre', 3: '1 Trimestre',\n",
        "    4: '2 Trimestre', 5: '2 Trimestre', 6: '2 Trimestre',\n",
        "    7: '3 Trimestre', 8: '3 Trimestre', 9: '3 Trimestre',\n",
        "    10: '4 Trimestre', 11: '4 Trimestre', 12: '4 Trimestre'\n",
        "}\n",
        "\n",
        "# Aplicando a lógica ao DataFrame\n",
        "datatran['periodo'] = datatran['mes'].map(trimestres)"
      ]
    },
    {
      "cell_type": "code",
      "execution_count": 99,
      "metadata": {},
      "outputs": [
        {
          "data": {
            "text/plain": [
              "array(['1 Trimestre', '2 Trimestre', '3 Trimestre'], dtype=object)"
            ]
          },
          "execution_count": 99,
          "metadata": {},
          "output_type": "execute_result"
        }
      ],
      "source": [
        "datatran['periodo'].unique()"
      ]
    },
    {
      "cell_type": "code",
      "execution_count": 104,
      "metadata": {},
      "outputs": [
        {
          "data": {
            "text/html": [
              "<div>\n",
              "<style scoped>\n",
              "    .dataframe tbody tr th:only-of-type {\n",
              "        vertical-align: middle;\n",
              "    }\n",
              "\n",
              "    .dataframe tbody tr th {\n",
              "        vertical-align: top;\n",
              "    }\n",
              "\n",
              "    .dataframe thead th {\n",
              "        text-align: right;\n",
              "    }\n",
              "</style>\n",
              "<table border=\"1\" class=\"dataframe\">\n",
              "  <thead>\n",
              "    <tr style=\"text-align: right;\">\n",
              "      <th></th>\n",
              "      <th>regiao</th>\n",
              "      <th>br</th>\n",
              "    </tr>\n",
              "  </thead>\n",
              "  <tbody>\n",
              "    <tr>\n",
              "      <th>0</th>\n",
              "      <td>Norte</td>\n",
              "      <td>230</td>\n",
              "    </tr>\n",
              "    <tr>\n",
              "      <th>1</th>\n",
              "      <td>Nordeste</td>\n",
              "      <td>222</td>\n",
              "    </tr>\n",
              "    <tr>\n",
              "      <th>2</th>\n",
              "      <td>Norte</td>\n",
              "      <td>153</td>\n",
              "    </tr>\n",
              "    <tr>\n",
              "      <th>3</th>\n",
              "      <td>Nordeste</td>\n",
              "      <td>101</td>\n",
              "    </tr>\n",
              "    <tr>\n",
              "      <th>4</th>\n",
              "      <td>Centro-Oeste</td>\n",
              "      <td>153</td>\n",
              "    </tr>\n",
              "    <tr>\n",
              "      <th>...</th>\n",
              "      <td>...</td>\n",
              "      <td>...</td>\n",
              "    </tr>\n",
              "    <tr>\n",
              "      <th>12294</th>\n",
              "      <td>Sudeste</td>\n",
              "      <td>484</td>\n",
              "    </tr>\n",
              "    <tr>\n",
              "      <th>12828</th>\n",
              "      <td>Sudeste</td>\n",
              "      <td>0</td>\n",
              "    </tr>\n",
              "    <tr>\n",
              "      <th>12919</th>\n",
              "      <td>Centro-Oeste</td>\n",
              "      <td>242</td>\n",
              "    </tr>\n",
              "    <tr>\n",
              "      <th>13504</th>\n",
              "      <td>Nordeste</td>\n",
              "      <td>30</td>\n",
              "    </tr>\n",
              "    <tr>\n",
              "      <th>14277</th>\n",
              "      <td>Centro-Oeste</td>\n",
              "      <td>419</td>\n",
              "    </tr>\n",
              "  </tbody>\n",
              "</table>\n",
              "<p>139 rows × 2 columns</p>\n",
              "</div>"
            ],
            "text/plain": [
              "             regiao   br\n",
              "0             Norte  230\n",
              "1          Nordeste  222\n",
              "2             Norte  153\n",
              "3          Nordeste  101\n",
              "4      Centro-Oeste  153\n",
              "...             ...  ...\n",
              "12294       Sudeste  484\n",
              "12828       Sudeste    0\n",
              "12919  Centro-Oeste  242\n",
              "13504      Nordeste   30\n",
              "14277  Centro-Oeste  419\n",
              "\n",
              "[139 rows x 2 columns]"
            ]
          },
          "execution_count": 104,
          "metadata": {},
          "output_type": "execute_result"
        }
      ],
      "source": [
        "datatran[['regiao', 'br']].drop_duplicates()"
      ]
    },
    {
      "cell_type": "code",
      "execution_count": 100,
      "metadata": {},
      "outputs": [
        {
          "data": {
            "text/html": [
              "<div>\n",
              "<style scoped>\n",
              "    .dataframe tbody tr th:only-of-type {\n",
              "        vertical-align: middle;\n",
              "    }\n",
              "\n",
              "    .dataframe tbody tr th {\n",
              "        vertical-align: top;\n",
              "    }\n",
              "\n",
              "    .dataframe thead th {\n",
              "        text-align: right;\n",
              "    }\n",
              "</style>\n",
              "<table border=\"1\" class=\"dataframe\">\n",
              "  <thead>\n",
              "    <tr style=\"text-align: right;\">\n",
              "      <th></th>\n",
              "      <th>id</th>\n",
              "      <th>ano</th>\n",
              "      <th>feriado</th>\n",
              "      <th>mes</th>\n",
              "      <th>data_inversa</th>\n",
              "      <th>uf</th>\n",
              "      <th>br</th>\n",
              "      <th>km</th>\n",
              "      <th>municipio</th>\n",
              "      <th>causa_acidente</th>\n",
              "      <th>classificacao_acidente</th>\n",
              "      <th>veiculos</th>\n",
              "      <th>condicao_metereologica</th>\n",
              "      <th>fase_dia</th>\n",
              "      <th>dia_semana</th>\n",
              "      <th>tipo_acidente</th>\n",
              "      <th>tipo_pista</th>\n",
              "      <th>mortos</th>\n",
              "      <th>feridos_graves</th>\n",
              "      <th>latitude</th>\n",
              "      <th>longitude</th>\n",
              "      <th>status</th>\n",
              "      <th>regiao</th>\n",
              "      <th>periodo</th>\n",
              "    </tr>\n",
              "  </thead>\n",
              "  <tbody>\n",
              "    <tr>\n",
              "      <th>0</th>\n",
              "      <td>576139</td>\n",
              "      <td>2024.0</td>\n",
              "      <td>n</td>\n",
              "      <td>1.0</td>\n",
              "      <td>2024-01-21</td>\n",
              "      <td>PA</td>\n",
              "      <td>230</td>\n",
              "      <td>70</td>\n",
              "      <td>SAO DOMINGOS DO ARAGUAIA</td>\n",
              "      <td>Manobra de mudança de faixa</td>\n",
              "      <td>Com Vítimas Fatais</td>\n",
              "      <td>2</td>\n",
              "      <td>Nublado</td>\n",
              "      <td>Plena Noite</td>\n",
              "      <td>domingo</td>\n",
              "      <td>Colisão frontal</td>\n",
              "      <td>Simples</td>\n",
              "      <td>1</td>\n",
              "      <td>0</td>\n",
              "      <td>-5.5079345</td>\n",
              "      <td>-48.71546613</td>\n",
              "      <td>Perigosa</td>\n",
              "      <td>Norte</td>\n",
              "      <td>1 Trimestre</td>\n",
              "    </tr>\n",
              "    <tr>\n",
              "      <th>1</th>\n",
              "      <td>604442</td>\n",
              "      <td>2024.0</td>\n",
              "      <td>n</td>\n",
              "      <td>6.0</td>\n",
              "      <td>2024-06-01</td>\n",
              "      <td>MA</td>\n",
              "      <td>222</td>\n",
              "      <td>207</td>\n",
              "      <td>ITAPECURU MIRIM</td>\n",
              "      <td>Acessar a via sem observar a presença dos outr...</td>\n",
              "      <td>Com Vítimas Fatais</td>\n",
              "      <td>5</td>\n",
              "      <td>Céu Claro</td>\n",
              "      <td>Pleno dia</td>\n",
              "      <td>sábado</td>\n",
              "      <td>Colisão lateral mesmo sentido</td>\n",
              "      <td>Simples</td>\n",
              "      <td>1</td>\n",
              "      <td>0</td>\n",
              "      <td>-3.39827306</td>\n",
              "      <td>-44.35676617</td>\n",
              "      <td>Perigosa</td>\n",
              "      <td>Nordeste</td>\n",
              "      <td>2 Trimestre</td>\n",
              "    </tr>\n",
              "    <tr>\n",
              "      <th>2</th>\n",
              "      <td>611965</td>\n",
              "      <td>2024.0</td>\n",
              "      <td>n</td>\n",
              "      <td>7.0</td>\n",
              "      <td>2024-07-04</td>\n",
              "      <td>TO</td>\n",
              "      <td>153</td>\n",
              "      <td>761</td>\n",
              "      <td>ALVORADA</td>\n",
              "      <td>Reação tardia ou ineficiente do condutor</td>\n",
              "      <td>Com Vítimas Feridas</td>\n",
              "      <td>1</td>\n",
              "      <td>Céu Claro</td>\n",
              "      <td>Pleno dia</td>\n",
              "      <td>quinta-feira</td>\n",
              "      <td>Tombamento</td>\n",
              "      <td>Dupla</td>\n",
              "      <td>0</td>\n",
              "      <td>0</td>\n",
              "      <td>-12.48124904</td>\n",
              "      <td>-49.11773068</td>\n",
              "      <td>Segura</td>\n",
              "      <td>Norte</td>\n",
              "      <td>3 Trimestre</td>\n",
              "    </tr>\n",
              "    <tr>\n",
              "      <th>3</th>\n",
              "      <td>581987</td>\n",
              "      <td>2024.0</td>\n",
              "      <td>n</td>\n",
              "      <td>2.0</td>\n",
              "      <td>2024-02-19</td>\n",
              "      <td>PE</td>\n",
              "      <td>101</td>\n",
              "      <td>25</td>\n",
              "      <td>IGARASSU</td>\n",
              "      <td>Reação tardia ou ineficiente do condutor</td>\n",
              "      <td>Com Vítimas Feridas</td>\n",
              "      <td>3</td>\n",
              "      <td>Céu Claro</td>\n",
              "      <td>Pleno dia</td>\n",
              "      <td>segunda-feira</td>\n",
              "      <td>Engavetamento</td>\n",
              "      <td>Dupla</td>\n",
              "      <td>0</td>\n",
              "      <td>0</td>\n",
              "      <td>-7.7009082</td>\n",
              "      <td>-34.9229207</td>\n",
              "      <td>Segura</td>\n",
              "      <td>Nordeste</td>\n",
              "      <td>1 Trimestre</td>\n",
              "    </tr>\n",
              "    <tr>\n",
              "      <th>4</th>\n",
              "      <td>660608</td>\n",
              "      <td>2025.0</td>\n",
              "      <td>n</td>\n",
              "      <td>2.0</td>\n",
              "      <td>2025-02-10</td>\n",
              "      <td>GO</td>\n",
              "      <td>153</td>\n",
              "      <td>135</td>\n",
              "      <td>MARA ROSA</td>\n",
              "      <td>Reação tardia ou ineficiente do condutor</td>\n",
              "      <td>Sem Vítimas</td>\n",
              "      <td>1</td>\n",
              "      <td>Céu Claro</td>\n",
              "      <td>Plena Noite</td>\n",
              "      <td>segunda-feira</td>\n",
              "      <td>Saída de leito carroçável</td>\n",
              "      <td>Simples</td>\n",
              "      <td>0</td>\n",
              "      <td>0</td>\n",
              "      <td>-13,949925</td>\n",
              "      <td>-49,08493</td>\n",
              "      <td>Segura</td>\n",
              "      <td>Centro-Oeste</td>\n",
              "      <td>1 Trimestre</td>\n",
              "    </tr>\n",
              "  </tbody>\n",
              "</table>\n",
              "</div>"
            ],
            "text/plain": [
              "       id     ano feriado  mes data_inversa  uf   br   km  \\\n",
              "0  576139  2024.0       n  1.0   2024-01-21  PA  230   70   \n",
              "1  604442  2024.0       n  6.0   2024-06-01  MA  222  207   \n",
              "2  611965  2024.0       n  7.0   2024-07-04  TO  153  761   \n",
              "3  581987  2024.0       n  2.0   2024-02-19  PE  101   25   \n",
              "4  660608  2025.0       n  2.0   2025-02-10  GO  153  135   \n",
              "\n",
              "                  municipio  \\\n",
              "0  SAO DOMINGOS DO ARAGUAIA   \n",
              "1           ITAPECURU MIRIM   \n",
              "2                  ALVORADA   \n",
              "3                  IGARASSU   \n",
              "4                 MARA ROSA   \n",
              "\n",
              "                                      causa_acidente classificacao_acidente  \\\n",
              "0                        Manobra de mudança de faixa     Com Vítimas Fatais   \n",
              "1  Acessar a via sem observar a presença dos outr...     Com Vítimas Fatais   \n",
              "2           Reação tardia ou ineficiente do condutor    Com Vítimas Feridas   \n",
              "3           Reação tardia ou ineficiente do condutor    Com Vítimas Feridas   \n",
              "4           Reação tardia ou ineficiente do condutor            Sem Vítimas   \n",
              "\n",
              "   veiculos condicao_metereologica     fase_dia     dia_semana  \\\n",
              "0         2                Nublado  Plena Noite        domingo   \n",
              "1         5              Céu Claro    Pleno dia         sábado   \n",
              "2         1              Céu Claro    Pleno dia   quinta-feira   \n",
              "3         3              Céu Claro    Pleno dia  segunda-feira   \n",
              "4         1              Céu Claro  Plena Noite  segunda-feira   \n",
              "\n",
              "                   tipo_acidente tipo_pista  mortos  feridos_graves  \\\n",
              "0                Colisão frontal    Simples       1               0   \n",
              "1  Colisão lateral mesmo sentido    Simples       1               0   \n",
              "2                     Tombamento      Dupla       0               0   \n",
              "3                  Engavetamento      Dupla       0               0   \n",
              "4      Saída de leito carroçável    Simples       0               0   \n",
              "\n",
              "       latitude     longitude    status        regiao      periodo  \n",
              "0    -5.5079345  -48.71546613  Perigosa         Norte  1 Trimestre  \n",
              "1   -3.39827306  -44.35676617  Perigosa      Nordeste  2 Trimestre  \n",
              "2  -12.48124904  -49.11773068    Segura         Norte  3 Trimestre  \n",
              "3    -7.7009082   -34.9229207    Segura      Nordeste  1 Trimestre  \n",
              "4    -13,949925     -49,08493    Segura  Centro-Oeste  1 Trimestre  "
            ]
          },
          "execution_count": 100,
          "metadata": {},
          "output_type": "execute_result"
        }
      ],
      "source": [
        "datatran.head()"
      ]
    },
    {
      "cell_type": "markdown",
      "metadata": {},
      "source": [
        "### SALVANDO DF COMO VARIÁVEL GLOBAL PARA CONTINUAR O PROJETO NO OUTRO NOTEBOOK:\n",
        "\n",
        ">- 2 Machine Learning.ipynb\n",
        ">- 3 LDA para topic model.ipynb"
      ]
    },
    {
      "cell_type": "code",
      "execution_count": 101,
      "metadata": {},
      "outputs": [
        {
          "name": "stdout",
          "output_type": "stream",
          "text": [
            "Stored 'datatran' (DataFrame)\n"
          ]
        }
      ],
      "source": [
        "%store datatran"
      ]
    },
    {
      "cell_type": "code",
      "execution_count": 102,
      "metadata": {},
      "outputs": [],
      "source": [
        "datatran.to_csv('./resultados/datatran.csv', index=False, sep=';')"
      ]
    }
  ],
  "metadata": {
    "colab": {
      "provenance": []
    },
    "kernelspec": {
      "display_name": "base",
      "language": "python",
      "name": "python3"
    },
    "language_info": {
      "codemirror_mode": {
        "name": "ipython",
        "version": 3
      },
      "file_extension": ".py",
      "mimetype": "text/x-python",
      "name": "python",
      "nbconvert_exporter": "python",
      "pygments_lexer": "ipython3",
      "version": "3.9.13"
    }
  },
  "nbformat": 4,
  "nbformat_minor": 0
}
